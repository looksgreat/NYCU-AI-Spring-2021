{
  "cells": [
    {
      "cell_type": "code",
      "execution_count": 22,
      "metadata": {
        "id": "ti-1nCJQzPKq"
      },
      "outputs": [],
      "source": [
        "import pandas as pd\n",
        "import numpy as np\n",
        "import random as rnd\n",
        "import seaborn as sns\n",
        "import matplotlib.pyplot as plt\n",
        "%matplotlib inline\n",
        "import warnings\n",
        "warnings.filterwarnings('ignore')"
      ]
    },
    {
      "cell_type": "code",
      "execution_count": 23,
      "metadata": {
        "id": "XLCDQSGAzPKr"
      },
      "outputs": [],
      "source": [
        "train_data = pd.read_csv('./data/train.csv')\n",
        "test_data = pd.read_csv('./data/test.csv')"
      ]
    },
    {
      "cell_type": "code",
      "execution_count": 24,
      "metadata": {
        "id": "XMQBy0RrzPKs",
        "outputId": "f3cabd2f-567d-478c-f90c-0f7ad9ab3ecd"
      },
      "outputs": [
        {
          "name": "stdout",
          "output_type": "stream",
          "text": [
            "['PassengerId' 'Survived' 'Pclass' 'Name' 'Sex' 'Age' 'SibSp' 'Parch'\n",
            " 'Ticket' 'Fare' 'Cabin' 'Embarked']\n"
          ]
        },
        {
          "data": {
            "text/html": [
              "<div>\n",
              "<style scoped>\n",
              "    .dataframe tbody tr th:only-of-type {\n",
              "        vertical-align: middle;\n",
              "    }\n",
              "\n",
              "    .dataframe tbody tr th {\n",
              "        vertical-align: top;\n",
              "    }\n",
              "\n",
              "    .dataframe thead th {\n",
              "        text-align: right;\n",
              "    }\n",
              "</style>\n",
              "<table border=\"1\" class=\"dataframe\">\n",
              "  <thead>\n",
              "    <tr style=\"text-align: right;\">\n",
              "      <th></th>\n",
              "      <th>Name</th>\n",
              "      <th>Sex</th>\n",
              "      <th>Ticket</th>\n",
              "      <th>Cabin</th>\n",
              "      <th>Embarked</th>\n",
              "    </tr>\n",
              "  </thead>\n",
              "  <tbody>\n",
              "    <tr>\n",
              "      <th>count</th>\n",
              "      <td>891</td>\n",
              "      <td>891</td>\n",
              "      <td>891</td>\n",
              "      <td>204</td>\n",
              "      <td>889</td>\n",
              "    </tr>\n",
              "    <tr>\n",
              "      <th>unique</th>\n",
              "      <td>891</td>\n",
              "      <td>2</td>\n",
              "      <td>681</td>\n",
              "      <td>147</td>\n",
              "      <td>3</td>\n",
              "    </tr>\n",
              "    <tr>\n",
              "      <th>top</th>\n",
              "      <td>Ibrahim Shawah, Mr. Yousseff</td>\n",
              "      <td>male</td>\n",
              "      <td>347082</td>\n",
              "      <td>G6</td>\n",
              "      <td>S</td>\n",
              "    </tr>\n",
              "    <tr>\n",
              "      <th>freq</th>\n",
              "      <td>1</td>\n",
              "      <td>577</td>\n",
              "      <td>7</td>\n",
              "      <td>4</td>\n",
              "      <td>644</td>\n",
              "    </tr>\n",
              "  </tbody>\n",
              "</table>\n",
              "</div>"
            ],
            "text/plain": [
              "                                Name   Sex  Ticket Cabin Embarked\n",
              "count                            891   891     891   204      889\n",
              "unique                           891     2     681   147        3\n",
              "top     Ibrahim Shawah, Mr. Yousseff  male  347082    G6        S\n",
              "freq                               1   577       7     4      644"
            ]
          },
          "execution_count": 24,
          "metadata": {},
          "output_type": "execute_result"
        }
      ],
      "source": [
        "print(train_data.columns.values)\n",
        "train_data.describe()\n",
        "train_data.describe(include=['O'])"
      ]
    },
    {
      "cell_type": "code",
      "execution_count": 25,
      "metadata": {
        "id": "ZD7B3FqczPKu",
        "outputId": "76dab22a-5ec2-414d-a39d-7670b4981065"
      },
      "outputs": [
        {
          "data": {
            "text/plain": [
              "Text(0.5, 1.0, 'combine')"
            ]
          },
          "execution_count": 25,
          "metadata": {},
          "output_type": "execute_result"
        },
        {
          "data": {
            "image/png": "[encoded data removed]",
            "text/plain": [
              "<Figure size 1440x576 with 3 Axes>"
            ]
          },
          "metadata": {
            "needs_background": "light"
          },
          "output_type": "display_data"
        }
      ],
      "source": [
        "fig, axes = plt.subplots(nrows=1, ncols=3,figsize=(20, 8))\n",
        "ax = sns.distplot(train_data[train_data['Survived']==1].Age.dropna(), bins=18, label = 'survived', ax = axes[0], kde =False, color=\"green\")\n",
        "ax.legend()\n",
        "ax.set_title('survived')\n",
        "ax = sns.distplot(train_data[train_data['Survived']==0].Age.dropna(), bins=40, label = 'not_survived', ax = axes[1], kde = False, color=\"red\")\n",
        "ax.legend()\n",
        "ax.set_title('not survived')\n",
        "ax = sns.distplot(train_data[train_data['Survived']==1].Age.dropna(), bins=18, label = 'survived', ax = axes[2], kde =False, color=\"green\")\n",
        "ax = sns.distplot(train_data[train_data['Survived']==0].Age.dropna(), bins=40, label = 'not_survived', ax = axes[2], kde = False, color=\"red\")\n",
        "ax.set_title('combine')"
      ]
    },
    {
      "cell_type": "markdown",
      "metadata": {
        "id": "HDAoFsXTzPKv"
      },
      "source": [
        "1. Young passengers had high survival rate, and old passengers had low survival rate.\n",
        "2. Most passengers are in 15-35 age range, and many passengers in this range did not survive."
      ]
    },
    {
      "cell_type": "code",
      "execution_count": 26,
      "metadata": {
        "id": "C-kVNhmfzPKw",
        "outputId": "a4c2b234-a797-4c34-d798-df94876a72f4"
      },
      "outputs": [
        {
          "data": {
            "text/plain": [
              "<seaborn.axisgrid.FacetGrid at 0x1d2a54182e0>"
            ]
          },
          "execution_count": 26,
          "metadata": {},
          "output_type": "execute_result"
        },
        {
          "data": {
            "image/png": "[encoded data removed]",
            "text/plain": [
              "<Figure size 900x360 with 1 Axes>"
            ]
          },
          "metadata": {
            "needs_background": "light"
          },
          "output_type": "display_data"
        }
      ],
      "source": [
        "sns.factorplot('Embarked','Survived', data=train_data, aspect = 2.5)"
      ]
    },
    {
      "cell_type": "markdown",
      "metadata": {
        "id": "DO3oHBifzPKx"
      },
      "source": [
        "Passengers from port ‘Southampton’ have a low survival rate of 34%, from the port ‘Cherbourg’ have a survival rate of 55%, from the port ‘Queenstown’ have a survival rate of 39%"
      ]
    },
    {
      "cell_type": "code",
      "execution_count": 27,
      "metadata": {
        "id": "3YUVxwqLzPKy"
      },
      "outputs": [],
      "source": [
        "\n",
        "train_data = train_data.drop('Ticket', axis=1)\n",
        "test_data = test_data.drop('Ticket', axis=1)"
      ]
    },
    {
      "cell_type": "markdown",
      "metadata": {
        "id": "ytnH1XYyzPK0"
      },
      "source": [
        "ticket number is random, so we drop this column"
      ]
    },
    {
      "cell_type": "code",
      "execution_count": 28,
      "metadata": {
        "id": "UnJDl2nqzPK1",
        "outputId": "4a174815-6c6b-43c3-f7d0-2782e8c6f432"
      },
      "outputs": [
        {
          "data": {
            "text/html": [
              "<div>\n",
              "<style scoped>\n",
              "    .dataframe tbody tr th:only-of-type {\n",
              "        vertical-align: middle;\n",
              "    }\n",
              "\n",
              "    .dataframe tbody tr th {\n",
              "        vertical-align: top;\n",
              "    }\n",
              "\n",
              "    .dataframe thead th {\n",
              "        text-align: right;\n",
              "    }\n",
              "</style>\n",
              "<table border=\"1\" class=\"dataframe\">\n",
              "  <thead>\n",
              "    <tr style=\"text-align: right;\">\n",
              "      <th></th>\n",
              "      <th>Title</th>\n",
              "      <th>Survived</th>\n",
              "    </tr>\n",
              "  </thead>\n",
              "  <tbody>\n",
              "    <tr>\n",
              "      <th>0</th>\n",
              "      <td>Master</td>\n",
              "      <td>0.575000</td>\n",
              "    </tr>\n",
              "    <tr>\n",
              "      <th>1</th>\n",
              "      <td>Miss</td>\n",
              "      <td>0.702703</td>\n",
              "    </tr>\n",
              "    <tr>\n",
              "      <th>2</th>\n",
              "      <td>Mr</td>\n",
              "      <td>0.156673</td>\n",
              "    </tr>\n",
              "    <tr>\n",
              "      <th>3</th>\n",
              "      <td>Mrs</td>\n",
              "      <td>0.793651</td>\n",
              "    </tr>\n",
              "    <tr>\n",
              "      <th>4</th>\n",
              "      <td>Rare</td>\n",
              "      <td>0.347826</td>\n",
              "    </tr>\n",
              "  </tbody>\n",
              "</table>\n",
              "</div>"
            ],
            "text/plain": [
              "    Title  Survived\n",
              "0  Master  0.575000\n",
              "1    Miss  0.702703\n",
              "2      Mr  0.156673\n",
              "3     Mrs  0.793651\n",
              "4    Rare  0.347826"
            ]
          },
          "execution_count": 28,
          "metadata": {},
          "output_type": "execute_result"
        }
      ],
      "source": [
        "combine = [train_data, test_data]\n",
        "for dataset in combine:\n",
        "    dataset['Title'] = dataset.Name.str.extract(' ([A-Za-z]+)\\.', expand=False)\n",
        "    dataset['Title'] = dataset['Title'].replace(['Lady', 'Countess','Capt', 'Col', 'Don', 'Dr', 'Major', 'Rev', 'Sir','Jonkheer', 'Dona'], 'Rare')\n",
        "    dataset['Title'] = dataset['Title'].replace('Mlle', 'Miss')\n",
        "    dataset['Title'] = dataset['Title'].replace('Ms', 'Miss')\n",
        "    dataset['Title'] = dataset['Title'].replace('Mme', 'Mrs')\n",
        "train_data[['Title', 'Survived']].groupby(['Title'], as_index=False).mean()"
      ]
    },
    {
      "cell_type": "markdown",
      "metadata": {
        "id": "RppBG65yzPK3"
      },
      "source": [
        "Certain titles mostly survived or did not"
      ]
    },
    {
      "cell_type": "code",
      "execution_count": 29,
      "metadata": {
        "id": "gLy8PKEc0fcQ"
      },
      "outputs": [],
      "source": [
        "title_mapping = {\"Mr\": 1, \"Miss\": 2, \"Mrs\": 3, \"Master\": 4, \"Rare\": 5}\n",
        "for dataset in combine:\n",
        "    dataset['Title'] = dataset['Title'].map(title_mapping)\n",
        "    dataset['Title'] = dataset['Title'].fillna(0)"
      ]
    },
    {
      "cell_type": "markdown",
      "metadata": {},
      "source": [
        "# Pclass"
      ]
    },
    {
      "cell_type": "code",
      "execution_count": 30,
      "metadata": {},
      "outputs": [
        {
          "name": "stdout",
          "output_type": "stream",
          "text": [
            "   Pclass  Survived\n",
            "0       1  0.629630\n",
            "1       2  0.472826\n",
            "2       3  0.242363\n"
          ]
        }
      ],
      "source": [
        "print(train_data[['Pclass', 'Survived']].groupby('Pclass', as_index=False).mean())"
      ]
    },
    {
      "cell_type": "markdown",
      "metadata": {},
      "source": [
        "People with higher tier of class are more likely to survived with 20 percent difference within adjacent tiers. "
      ]
    },
    {
      "cell_type": "markdown",
      "metadata": {},
      "source": [
        "# SibSp"
      ]
    },
    {
      "cell_type": "code",
      "execution_count": 31,
      "metadata": {},
      "outputs": [
        {
          "name": "stdout",
          "output_type": "stream",
          "text": [
            "   SibSp  Survived\n",
            "0      0  0.345395\n",
            "1      1  0.535885\n",
            "2      2  0.464286\n",
            "3      3  0.250000\n",
            "4      4  0.166667\n",
            "5      5  0.000000\n",
            "6      8  0.000000\n"
          ]
        }
      ],
      "source": [
        "print(train_data[['SibSp', 'Survived']].groupby('SibSp', as_index=False).mean())"
      ]
    },
    {
      "cell_type": "markdown",
      "metadata": {},
      "source": [
        "People who traveled with 1 or 2 siblings or spouse are higher rate of survival compare to people who travled with 3 sibsp or more. People who traveled alone (sibsp + parch = 0) have survival rate over than one third."
      ]
    },
    {
      "cell_type": "markdown",
      "metadata": {},
      "source": [
        "# Fare"
      ]
    },
    {
      "cell_type": "code",
      "execution_count": 32,
      "metadata": {},
      "outputs": [
        {
          "data": {
            "image/png": "[encoded data removed]",
            "text/plain": [
              "<Figure size 1584x648 with 1 Axes>"
            ]
          },
          "metadata": {
            "needs_background": "light"
          },
          "output_type": "display_data"
        }
      ],
      "source": [
        "data1 = pd.read_csv('./data/train.csv')\n",
        "data1['Fare'] = pd.qcut(data1['Fare'], 13)\n",
        "\n",
        "fig, axs = plt.subplots(figsize=(22, 9))\n",
        "sns.countplot(x='Fare', hue='Survived', data=data1)\n",
        "\n",
        "plt.xlabel('Fare', size=15, labelpad=20)\n",
        "plt.ylabel('Passenger Count', size=15, labelpad=20)\n",
        "plt.tick_params(axis='x', labelsize=10)\n",
        "plt.tick_params(axis='y', labelsize=15)\n",
        "\n",
        "plt.legend(['Not Survived', 'Survived'], loc='upper right', prop={'size': 15})\n",
        "plt.title('Count of Survival in {} Feature'.format('Fare'), size=15, y=1.05)\n",
        "\n",
        "plt.show()"
      ]
    },
    {
      "cell_type": "markdown",
      "metadata": {},
      "source": [
        "People in the group of higher fare have higher rate of survival compare to people with lower fare, this indicates either of two things, people travel with family or having an expensive cabin are more likely to survive."
      ]
    },
    {
      "cell_type": "markdown",
      "metadata": {
        "id": "hA2vTeEn_dGt"
      },
      "source": [
        "# Cabin"
      ]
    },
    {
      "cell_type": "code",
      "execution_count": 33,
      "metadata": {
        "colab": {
          "base_uri": "https://localhost:8080/"
        },
        "id": "YKzrYjdYxKru",
        "outputId": "b705db23-19f7-4427-d7f3-5f6f63d90e93"
      },
      "outputs": [
        {
          "name": "stdout",
          "output_type": "stream",
          "text": [
            "0.7710437710437711\n",
            "0.22895622895622897\n",
            "687\n",
            "891\n"
          ]
        }
      ],
      "source": [
        "cabinisnull = train_data['Cabin'].isnull().sum()\n",
        "cabinnotnull = train_data['Cabin'].count()\n",
        "totalnum = train_data['PassengerId'].count()\n",
        "print(cabinisnull/totalnum)\n",
        "print(cabinnotnull/totalnum)\n",
        "print(cabinisnull)\n",
        "print(totalnum)"
      ]
    },
    {
      "cell_type": "code",
      "execution_count": 34,
      "metadata": {
        "id": "PftLX3Zd2Jo1"
      },
      "outputs": [],
      "source": [
        "train_data = train_data.drop(['Cabin'], axis=1)\n",
        "test_data = test_data.drop(['Cabin'], axis=1)"
      ]
    },
    {
      "cell_type": "markdown",
      "metadata": {
        "id": "fWbsKVex_JKn"
      },
      "source": [
        "The Cabin data has too much null (687 out of 891 rows, about 77%) that it might not be good feature. However, it can help craft other features.  "
      ]
    },
    {
      "cell_type": "code",
      "execution_count": 35,
      "metadata": {
        "id": "HdK8CvCa0fca",
        "outputId": "d3d78e5d-71c5-4943-f794-96c2401dbb8b"
      },
      "outputs": [
        {
          "data": {
            "text/html": [
              "<div>\n",
              "<style scoped>\n",
              "    .dataframe tbody tr th:only-of-type {\n",
              "        vertical-align: middle;\n",
              "    }\n",
              "\n",
              "    .dataframe tbody tr th {\n",
              "        vertical-align: top;\n",
              "    }\n",
              "\n",
              "    .dataframe thead th {\n",
              "        text-align: right;\n",
              "    }\n",
              "</style>\n",
              "<table border=\"1\" class=\"dataframe\">\n",
              "  <thead>\n",
              "    <tr style=\"text-align: right;\">\n",
              "      <th></th>\n",
              "      <th>Survived</th>\n",
              "      <th>Pclass</th>\n",
              "      <th>Sex</th>\n",
              "      <th>Age</th>\n",
              "      <th>SibSp</th>\n",
              "      <th>Parch</th>\n",
              "      <th>Fare</th>\n",
              "      <th>Embarked</th>\n",
              "      <th>Title</th>\n",
              "    </tr>\n",
              "  </thead>\n",
              "  <tbody>\n",
              "    <tr>\n",
              "      <th>0</th>\n",
              "      <td>0</td>\n",
              "      <td>3</td>\n",
              "      <td>male</td>\n",
              "      <td>22.0</td>\n",
              "      <td>1</td>\n",
              "      <td>0</td>\n",
              "      <td>7.2500</td>\n",
              "      <td>S</td>\n",
              "      <td>1</td>\n",
              "    </tr>\n",
              "    <tr>\n",
              "      <th>1</th>\n",
              "      <td>1</td>\n",
              "      <td>1</td>\n",
              "      <td>female</td>\n",
              "      <td>38.0</td>\n",
              "      <td>1</td>\n",
              "      <td>0</td>\n",
              "      <td>71.2833</td>\n",
              "      <td>C</td>\n",
              "      <td>3</td>\n",
              "    </tr>\n",
              "    <tr>\n",
              "      <th>2</th>\n",
              "      <td>1</td>\n",
              "      <td>3</td>\n",
              "      <td>female</td>\n",
              "      <td>26.0</td>\n",
              "      <td>0</td>\n",
              "      <td>0</td>\n",
              "      <td>7.9250</td>\n",
              "      <td>S</td>\n",
              "      <td>2</td>\n",
              "    </tr>\n",
              "    <tr>\n",
              "      <th>3</th>\n",
              "      <td>1</td>\n",
              "      <td>1</td>\n",
              "      <td>female</td>\n",
              "      <td>35.0</td>\n",
              "      <td>1</td>\n",
              "      <td>0</td>\n",
              "      <td>53.1000</td>\n",
              "      <td>S</td>\n",
              "      <td>3</td>\n",
              "    </tr>\n",
              "    <tr>\n",
              "      <th>4</th>\n",
              "      <td>0</td>\n",
              "      <td>3</td>\n",
              "      <td>male</td>\n",
              "      <td>35.0</td>\n",
              "      <td>0</td>\n",
              "      <td>0</td>\n",
              "      <td>8.0500</td>\n",
              "      <td>S</td>\n",
              "      <td>1</td>\n",
              "    </tr>\n",
              "  </tbody>\n",
              "</table>\n",
              "</div>"
            ],
            "text/plain": [
              "   Survived  Pclass     Sex   Age  SibSp  Parch     Fare Embarked  Title\n",
              "0         0       3    male  22.0      1      0   7.2500        S      1\n",
              "1         1       1  female  38.0      1      0  71.2833        C      3\n",
              "2         1       3  female  26.0      0      0   7.9250        S      2\n",
              "3         1       1  female  35.0      1      0  53.1000        S      3\n",
              "4         0       3    male  35.0      0      0   8.0500        S      1"
            ]
          },
          "execution_count": 35,
          "metadata": {},
          "output_type": "execute_result"
        }
      ],
      "source": [
        "title_mapping = {\"Mr\": 1, \"Miss\": 2, \"Mrs\": 3, \"Master\": 4, \"Rare\": 5}\n",
        "for dataset in combine:\n",
        "    dataset['Title'] = dataset['Title'].map(title_mapping)\n",
        "    dataset['Title'] = dataset['Title'].fillna(0)\n",
        "train_data = train_data.drop(['Name', 'PassengerId'], axis=1)\n",
        "test_data = test_data.drop(['Name'], axis=1)\n",
        "train_data.head()"
      ]
    },
    {
      "cell_type": "markdown",
      "metadata": {
        "id": "1xCxcqsP0fca"
      },
      "source": [
        "We can drop name and passengerID"
      ]
    },
    {
      "cell_type": "markdown",
      "metadata": {
        "id": "Pq_9Kies_vCF"
      },
      "source": [
        "# Sex"
      ]
    },
    {
      "cell_type": "code",
      "execution_count": 36,
      "metadata": {
        "id": "yyEPiKdF5BRh"
      },
      "outputs": [],
      "source": [
        "train_data['isMale'] = 1\n",
        "train_data['isMale'].loc[train_data['Sex']=='female'] = 0\n",
        "train_data['isFemale'] = 1\n",
        "train_data['isFemale'].loc[train_data['Sex']=='male'] = 0"
      ]
    },
    {
      "cell_type": "code",
      "execution_count": 37,
      "metadata": {
        "colab": {
          "base_uri": "https://localhost:8080/"
        },
        "id": "i9GA5Jlnn4Zg",
        "outputId": "1ce86fe2-6cbc-4ff6-c858-d3c5b49577bb"
      },
      "outputs": [
        {
          "name": "stdout",
          "output_type": "stream",
          "text": [
            "109\n",
            "577\n",
            "0.18890814558058924\n",
            "233\n",
            "314\n",
            "0.7420382165605095\n"
          ]
        }
      ],
      "source": [
        "male = train_data.loc[train_data.Sex == 'male']['Survived']\n",
        "female = train_data.loc[train_data.Sex == 'female']['Survived']\n",
        "malesurrate = sum(male)/len(male)\n",
        "femalesurrate = sum(female)/len(female)\n",
        "print(sum(male))\n",
        "print(len(male))\n",
        "print(malesurrate)\n",
        "print(sum(female))\n",
        "print(len(female))\n",
        "print(femalesurrate)"
      ]
    },
    {
      "cell_type": "markdown",
      "metadata": {
        "id": "EEcnUUUZ_51J"
      },
      "source": [
        "Sex has high correlation (+-0.543) with survival in the training data set, which means gender may be a strong factor alone.  \n",
        "Women have survival rate 0.7420382165605095, while men have much lower survival rate  0.18890814558058924  \n",
        "\n",
        "\n",
        "| Gender\\Number | Total | Survived | Survival Rate |\n",
        "| ------------- | ----- | -------- | ------------- |\n",
        "|     Women          |314|233|74.20%|\n",
        "| Men         | 577  | 109     |18.89%|"
      ]
    },
    {
      "cell_type": "markdown",
      "metadata": {
        "id": "dWvRV5JTAMAw"
      },
      "source": [
        "# Parch"
      ]
    },
    {
      "cell_type": "code",
      "execution_count": 38,
      "metadata": {
        "id": "QLhYmgF2A9pP"
      },
      "outputs": [],
      "source": [
        "train_data.value_counts(['Parch'])\n",
        "parchsur = list()\n",
        "parchstat = list()\n",
        "for i in range(0,7):\n",
        "  parchsur.append(train_data.loc[train_data.Parch == i]['Survived'])\n",
        "  parchstat.append((sum(parchsur[i]), len(parchsur[i])))"
      ]
    },
    {
      "cell_type": "code",
      "execution_count": 39,
      "metadata": {
        "colab": {
          "base_uri": "https://localhost:8080/",
          "height": 283
        },
        "id": "_rjjWxr0DZRS",
        "outputId": "77fc459e-6664-4919-db7f-fe965fdf7829"
      },
      "outputs": [
        {
          "data": {
            "image/png": "[encoded data removed]",
            "text/plain": [
              "<Figure size 432x288 with 2 Axes>"
            ]
          },
          "metadata": {
            "needs_background": "light"
          },
          "output_type": "display_data"
        }
      ],
      "source": [
        "import matplotlib.pyplot as plt\n",
        "fig = plt.figure()        \n",
        "host =  fig.add_subplot(111) \n",
        "par2 = host.twinx()\n",
        "x = (0,1,2,3,4,5,6)\n",
        "y = [x[0] for x in parchstat] \n",
        "y2 = [x[1] for x in parchstat] \n",
        "yy = [x[0]/x[1] for x in parchstat]\n",
        "host.bar(x,y2,align='center',label='total count')\n",
        "host.bar(x,y,align='center',label='survived count') \n",
        "par2.plot(x, yy, linewidth=2, marker='o', color = 'black', label='survival rate')\n",
        "host.legend(loc = 'upper right')\n",
        "par2.set_ylim(0,1)\n",
        "host.set_ylabel(\"count\")\n",
        "par2.set_ylabel(\"Survival Rate\")\n",
        "host.set_xlabel('Number of Parents/Children')\n",
        "plt.show()"
      ]
    },
    {
      "cell_type": "markdown",
      "metadata": {
        "id": "8D8UYfh1AWNS"
      },
      "source": [
        "Parch describe number of one's parents/children, range from 0 to 6.  \n",
        "The relation to the survival rate shown in the plot.  \n",
        "detail:\n",
        "\n",
        "\n",
        "| Parch         | 0     | 1     | 2     | 3     | 4    | 5     | 6    |\n",
        "| ------------- | ----- | ----- | ----- | ----- | ---- | ----- | ---- |\n",
        "| Total         | 678   | 118   | 80    | 5     | 4    | 5     | 1    |\n",
        "| Survived      | 233   | 65    | 40    | 3     | 0    | 1     | 0    |\n",
        "| Survival Rate | 34.3% | 55.0% | 50.0% | 60.0% | 0.0% | 20.0% | 0.0% |"
      ]
    },
    {
      "cell_type": "markdown",
      "metadata": {
        "id": "X9lD77DvAfoP"
      },
      "source": [
        "# Family&Single  \n",
        "Family is simply Parch+Sibsp, and isSingle is family=0."
      ]
    },
    {
      "cell_type": "code",
      "execution_count": 40,
      "metadata": {
        "colab": {
          "base_uri": "https://localhost:8080/"
        },
        "id": "qvzCv_hCVQul",
        "outputId": "889ad78c-8aa7-4b9e-a8f7-210f1cfa325a"
      },
      "outputs": [
        {
          "data": {
            "text/plain": [
              "Family\n",
              "0         537\n",
              "1         161\n",
              "2         102\n",
              "3          29\n",
              "5          22\n",
              "4          15\n",
              "6          12\n",
              "10          7\n",
              "7           6\n",
              "dtype: int64"
            ]
          },
          "execution_count": 40,
          "metadata": {},
          "output_type": "execute_result"
        }
      ],
      "source": [
        "train_data['Family']=0\n",
        "train_data['Family']=train_data.Parch + train_data.SibSp\n",
        "train_data['isSingle']=0\n",
        "train_data['isSingle'].loc[train_data.Family==0] = 1\n",
        "train_data.value_counts(['Family'])"
      ]
    },
    {
      "cell_type": "code",
      "execution_count": 41,
      "metadata": {
        "id": "jr8xeNdmXV9O",
        "outputId": "027f9f8e-9f33-426d-ed95-987ec8e595bc"
      },
      "outputs": [
        {
          "name": "stdout",
          "output_type": "stream",
          "text": [
            "[537, 161, 102, 29, 15, 22, 12, 6, 0, 0, 7]\n"
          ]
        }
      ],
      "source": [
        "train_data.value_counts(['Family'])\n",
        "Fsur = list()\n",
        "Fstat = list()\n",
        "for i in range(0,11):\n",
        "  Fsur.append(train_data.loc[train_data.Family == i]['Survived'])\n",
        "  Fstat.append((sum(Fsur[i]), len(Fsur[i])))\n",
        "print([x[1] for x in Fstat] )"
      ]
    },
    {
      "cell_type": "code",
      "execution_count": 42,
      "metadata": {
        "colab": {
          "base_uri": "https://localhost:8080/",
          "height": 283
        },
        "id": "r8hdEcq6YETp",
        "outputId": "f19cef7f-7bb0-47cf-ea62-d3e53dbd9879"
      },
      "outputs": [
        {
          "data": {
            "image/png": "[encoded data removed]",
            "text/plain": [
              "<Figure size 432x288 with 2 Axes>"
            ]
          },
          "metadata": {
            "needs_background": "light"
          },
          "output_type": "display_data"
        }
      ],
      "source": [
        "import matplotlib.pyplot as plt\n",
        "fig = plt.figure()        \n",
        "host =  fig.add_subplot(111) \n",
        "par2 = host.twinx()\n",
        "x = (0,1,2,3,4,5,6,7,8,9,10)\n",
        "y = [x[0] for x in Fstat] \n",
        "y2 = [x[1] for x in Fstat] \n",
        "yy = list()\n",
        "for ii in Fstat:\n",
        "  if ii[0]!=0:\n",
        "    yy.append(ii[0]/ii[1])\n",
        "  else:\n",
        "    yy.append(0)\n",
        "host.bar(x,y2,align='center',label='total count')\n",
        "host.bar(x,y,align='center',label='survived count') \n",
        "par2.plot(x, yy, linewidth=2, marker='o', color = 'black', label='survival rate')\n",
        "host.legend(loc = 'upper right')\n",
        "par2.set_ylim(0,1)\n",
        "host.set_ylabel(\"count\")\n",
        "par2.set_ylabel(\"Survival Rate\")\n",
        "host.set_xlabel('Number of Parents/Children')\n",
        "plt.show()"
      ]
    },
    {
      "cell_type": "code",
      "execution_count": 43,
      "metadata": {
        "colab": {
          "base_uri": "https://localhost:8080/",
          "height": 377
        },
        "id": "nSD7yTUNWWon",
        "outputId": "2c442370-ca8c-4c74-9a9b-e5945e2c0abb"
      },
      "outputs": [
        {
          "data": {
            "text/html": [
              "<div>\n",
              "<style scoped>\n",
              "    .dataframe tbody tr th:only-of-type {\n",
              "        vertical-align: middle;\n",
              "    }\n",
              "\n",
              "    .dataframe tbody tr th {\n",
              "        vertical-align: top;\n",
              "    }\n",
              "\n",
              "    .dataframe thead th {\n",
              "        text-align: right;\n",
              "    }\n",
              "</style>\n",
              "<table border=\"1\" class=\"dataframe\">\n",
              "  <thead>\n",
              "    <tr style=\"text-align: right;\">\n",
              "      <th></th>\n",
              "      <th>Survived</th>\n",
              "      <th>Pclass</th>\n",
              "      <th>Age</th>\n",
              "      <th>SibSp</th>\n",
              "      <th>Parch</th>\n",
              "      <th>Fare</th>\n",
              "      <th>Title</th>\n",
              "      <th>isMale</th>\n",
              "      <th>isFemale</th>\n",
              "      <th>Family</th>\n",
              "      <th>isSingle</th>\n",
              "    </tr>\n",
              "  </thead>\n",
              "  <tbody>\n",
              "    <tr>\n",
              "      <th>Survived</th>\n",
              "      <td>1.000000</td>\n",
              "      <td>-0.338481</td>\n",
              "      <td>-0.077221</td>\n",
              "      <td>-0.035322</td>\n",
              "      <td>0.081629</td>\n",
              "      <td>0.257307</td>\n",
              "      <td>0.407753</td>\n",
              "      <td>-0.543351</td>\n",
              "      <td>0.543351</td>\n",
              "      <td>0.016639</td>\n",
              "      <td>-0.203367</td>\n",
              "    </tr>\n",
              "    <tr>\n",
              "      <th>Pclass</th>\n",
              "      <td>-0.338481</td>\n",
              "      <td>1.000000</td>\n",
              "      <td>-0.369226</td>\n",
              "      <td>0.083081</td>\n",
              "      <td>0.018443</td>\n",
              "      <td>-0.549500</td>\n",
              "      <td>-0.173929</td>\n",
              "      <td>0.131900</td>\n",
              "      <td>-0.131900</td>\n",
              "      <td>0.065997</td>\n",
              "      <td>0.135207</td>\n",
              "    </tr>\n",
              "    <tr>\n",
              "      <th>Age</th>\n",
              "      <td>-0.077221</td>\n",
              "      <td>-0.369226</td>\n",
              "      <td>1.000000</td>\n",
              "      <td>-0.308247</td>\n",
              "      <td>-0.189119</td>\n",
              "      <td>0.096067</td>\n",
              "      <td>-0.104766</td>\n",
              "      <td>0.093254</td>\n",
              "      <td>-0.093254</td>\n",
              "      <td>-0.301914</td>\n",
              "      <td>0.198270</td>\n",
              "    </tr>\n",
              "    <tr>\n",
              "      <th>SibSp</th>\n",
              "      <td>-0.035322</td>\n",
              "      <td>0.083081</td>\n",
              "      <td>-0.308247</td>\n",
              "      <td>1.000000</td>\n",
              "      <td>0.414838</td>\n",
              "      <td>0.159651</td>\n",
              "      <td>0.269623</td>\n",
              "      <td>-0.114631</td>\n",
              "      <td>0.114631</td>\n",
              "      <td>0.890712</td>\n",
              "      <td>-0.584471</td>\n",
              "    </tr>\n",
              "    <tr>\n",
              "      <th>Parch</th>\n",
              "      <td>0.081629</td>\n",
              "      <td>0.018443</td>\n",
              "      <td>-0.189119</td>\n",
              "      <td>0.414838</td>\n",
              "      <td>1.000000</td>\n",
              "      <td>0.216225</td>\n",
              "      <td>0.315784</td>\n",
              "      <td>-0.245489</td>\n",
              "      <td>0.245489</td>\n",
              "      <td>0.783111</td>\n",
              "      <td>-0.583398</td>\n",
              "    </tr>\n",
              "    <tr>\n",
              "      <th>Fare</th>\n",
              "      <td>0.257307</td>\n",
              "      <td>-0.549500</td>\n",
              "      <td>0.096067</td>\n",
              "      <td>0.159651</td>\n",
              "      <td>0.216225</td>\n",
              "      <td>1.000000</td>\n",
              "      <td>0.136310</td>\n",
              "      <td>-0.182333</td>\n",
              "      <td>0.182333</td>\n",
              "      <td>0.217138</td>\n",
              "      <td>-0.271832</td>\n",
              "    </tr>\n",
              "    <tr>\n",
              "      <th>Title</th>\n",
              "      <td>0.407753</td>\n",
              "      <td>-0.173929</td>\n",
              "      <td>-0.104766</td>\n",
              "      <td>0.269623</td>\n",
              "      <td>0.315784</td>\n",
              "      <td>0.136310</td>\n",
              "      <td>1.000000</td>\n",
              "      <td>-0.502713</td>\n",
              "      <td>0.502713</td>\n",
              "      <td>0.342039</td>\n",
              "      <td>-0.405813</td>\n",
              "    </tr>\n",
              "    <tr>\n",
              "      <th>isMale</th>\n",
              "      <td>-0.543351</td>\n",
              "      <td>0.131900</td>\n",
              "      <td>0.093254</td>\n",
              "      <td>-0.114631</td>\n",
              "      <td>-0.245489</td>\n",
              "      <td>-0.182333</td>\n",
              "      <td>-0.502713</td>\n",
              "      <td>1.000000</td>\n",
              "      <td>-1.000000</td>\n",
              "      <td>-0.200988</td>\n",
              "      <td>0.303646</td>\n",
              "    </tr>\n",
              "    <tr>\n",
              "      <th>isFemale</th>\n",
              "      <td>0.543351</td>\n",
              "      <td>-0.131900</td>\n",
              "      <td>-0.093254</td>\n",
              "      <td>0.114631</td>\n",
              "      <td>0.245489</td>\n",
              "      <td>0.182333</td>\n",
              "      <td>0.502713</td>\n",
              "      <td>-1.000000</td>\n",
              "      <td>1.000000</td>\n",
              "      <td>0.200988</td>\n",
              "      <td>-0.303646</td>\n",
              "    </tr>\n",
              "    <tr>\n",
              "      <th>Family</th>\n",
              "      <td>0.016639</td>\n",
              "      <td>0.065997</td>\n",
              "      <td>-0.301914</td>\n",
              "      <td>0.890712</td>\n",
              "      <td>0.783111</td>\n",
              "      <td>0.217138</td>\n",
              "      <td>0.342039</td>\n",
              "      <td>-0.200988</td>\n",
              "      <td>0.200988</td>\n",
              "      <td>1.000000</td>\n",
              "      <td>-0.690922</td>\n",
              "    </tr>\n",
              "    <tr>\n",
              "      <th>isSingle</th>\n",
              "      <td>-0.203367</td>\n",
              "      <td>0.135207</td>\n",
              "      <td>0.198270</td>\n",
              "      <td>-0.584471</td>\n",
              "      <td>-0.583398</td>\n",
              "      <td>-0.271832</td>\n",
              "      <td>-0.405813</td>\n",
              "      <td>0.303646</td>\n",
              "      <td>-0.303646</td>\n",
              "      <td>-0.690922</td>\n",
              "      <td>1.000000</td>\n",
              "    </tr>\n",
              "  </tbody>\n",
              "</table>\n",
              "</div>"
            ],
            "text/plain": [
              "          Survived    Pclass       Age     SibSp     Parch      Fare  \\\n",
              "Survived  1.000000 -0.338481 -0.077221 -0.035322  0.081629  0.257307   \n",
              "Pclass   -0.338481  1.000000 -0.369226  0.083081  0.018443 -0.549500   \n",
              "Age      -0.077221 -0.369226  1.000000 -0.308247 -0.189119  0.096067   \n",
              "SibSp    -0.035322  0.083081 -0.308247  1.000000  0.414838  0.159651   \n",
              "Parch     0.081629  0.018443 -0.189119  0.414838  1.000000  0.216225   \n",
              "Fare      0.257307 -0.549500  0.096067  0.159651  0.216225  1.000000   \n",
              "Title     0.407753 -0.173929 -0.104766  0.269623  0.315784  0.136310   \n",
              "isMale   -0.543351  0.131900  0.093254 -0.114631 -0.245489 -0.182333   \n",
              "isFemale  0.543351 -0.131900 -0.093254  0.114631  0.245489  0.182333   \n",
              "Family    0.016639  0.065997 -0.301914  0.890712  0.783111  0.217138   \n",
              "isSingle -0.203367  0.135207  0.198270 -0.584471 -0.583398 -0.271832   \n",
              "\n",
              "             Title    isMale  isFemale    Family  isSingle  \n",
              "Survived  0.407753 -0.543351  0.543351  0.016639 -0.203367  \n",
              "Pclass   -0.173929  0.131900 -0.131900  0.065997  0.135207  \n",
              "Age      -0.104766  0.093254 -0.093254 -0.301914  0.198270  \n",
              "SibSp     0.269623 -0.114631  0.114631  0.890712 -0.584471  \n",
              "Parch     0.315784 -0.245489  0.245489  0.783111 -0.583398  \n",
              "Fare      0.136310 -0.182333  0.182333  0.217138 -0.271832  \n",
              "Title     1.000000 -0.502713  0.502713  0.342039 -0.405813  \n",
              "isMale   -0.502713  1.000000 -1.000000 -0.200988  0.303646  \n",
              "isFemale  0.502713 -1.000000  1.000000  0.200988 -0.303646  \n",
              "Family    0.342039 -0.200988  0.200988  1.000000 -0.690922  \n",
              "isSingle -0.405813  0.303646 -0.303646 -0.690922  1.000000  "
            ]
          },
          "execution_count": 43,
          "metadata": {},
          "output_type": "execute_result"
        }
      ],
      "source": [
        "train_data.corr()"
      ]
    },
    {
      "cell_type": "markdown",
      "metadata": {
        "id": "HwUose_zAodd"
      },
      "source": []
    },
    {
      "cell_type": "code",
      "execution_count": 44,
      "metadata": {
        "colab": {
          "base_uri": "https://localhost:8080/"
        },
        "id": "Lxwg2jeiaUEN",
        "outputId": "6af73ade-66dc-4710-e850-a2ce8b15e101"
      },
      "outputs": [
        {
          "name": "stdout",
          "output_type": "stream",
          "text": [
            "0.30353817504655495\n",
            "0.5056497175141242\n"
          ]
        }
      ],
      "source": [
        "singlesur =  train_data.loc[train_data.isSingle==1]['Survived']\n",
        "nsinglesur = train_data.loc[train_data.isSingle==0]['Survived']\n",
        "ssrate = sum(singlesur)/len(singlesur)\n",
        "nsrate = sum(nsinglesur)/len(nsinglesur)\n",
        "print(ssrate)\n",
        "print(nsrate)"
      ]
    },
    {
      "cell_type": "markdown",
      "metadata": {
        "id": "9j7mxP0cBAXN"
      },
      "source": [
        "The correlation with survived is not higher using Family, but is higher using isSingle(-0.2).  \n",
        "People had no other family member had lower survival rate (0.303), while others had higher (0.505).  "
      ]
    },
    {
      "cell_type": "code",
      "execution_count": 45,
      "metadata": {
        "id": "YAWC-U2I0fcq"
      },
      "outputs": [],
      "source": [
        "test_data['isMale'] = 1\n",
        "test_data['isMale'].loc[train_data['Sex']=='female'] = 0\n",
        "test_data['isFemale'] = 1\n",
        "test_data['isFemale'].loc[train_data['Sex']=='male'] = 0\n",
        "test_data['Family']=0\n",
        "test_data['Family']=train_data.Parch + train_data.SibSp\n",
        "test_data['isSingle']=0\n",
        "test_data['isSingle'].loc[train_data.Family==0] = 1"
      ]
    },
    {
      "cell_type": "code",
      "execution_count": 46,
      "metadata": {
        "id": "92pY-r_W0fcr"
      },
      "outputs": [],
      "source": [
        "freq_port = train_data.Embarked.dropna().mode()[0]\n",
        "combine = [train_data, test_data]\n",
        "for dataset in combine:\n",
        "    dataset['Embarked'] = dataset['Embarked'].fillna(freq_port)"
      ]
    },
    {
      "cell_type": "code",
      "execution_count": 47,
      "metadata": {
        "id": "RmHGJ5JE0fcs",
        "outputId": "6348d36f-cbdb-4081-ef20-3f23432974cf"
      },
      "outputs": [
        {
          "data": {
            "text/plain": [
              "<AxesSubplot:>"
            ]
          },
          "execution_count": 47,
          "metadata": {},
          "output_type": "execute_result"
        },
        {
          "data": {
            "image/png": "[encoded data removed]",
            "text/plain": [
              "<Figure size 432x288 with 2 Axes>"
            ]
          },
          "metadata": {
            "needs_background": "light"
          },
          "output_type": "display_data"
        }
      ],
      "source": [
        "sns.heatmap(train_data[[\"Age\",\"isMale\",\"SibSp\",\"Parch\",\"Pclass\"]].corr(),cmap=\"BrBG\",annot=True)"
      ]
    },
    {
      "cell_type": "markdown",
      "metadata": {
        "id": "fSsNziNc0fct"
      },
      "source": [
        "Age is negatively correlated with Pclass and SibSp."
      ]
    },
    {
      "cell_type": "code",
      "execution_count": 48,
      "metadata": {
        "id": "h0w_mJXT0fcu"
      },
      "outputs": [],
      "source": [
        "guess_ages = np.zeros((9,3))\n",
        "for dataset in combine:\n",
        "    for i in range(0, 9):\n",
        "        for j in range(0, 3):\n",
        "            guess_df = dataset[(dataset['SibSp'] == i) & (dataset['Pclass'] == j+1)]['Age'].dropna()\n",
        "            age_guess = guess_df.median()\n",
        "            if np.isnan(age_guess):\n",
        "                continue\n",
        "            guess_ages[i,j] = int( age_guess/0.5 + 0.5 ) * 0.5           \n",
        "    for i in range(0, 9):\n",
        "        for j in range(0, 3):\n",
        "            dataset.loc[ (dataset.Age.isnull()) & (dataset.SibSp == i) & (dataset.Pclass == j+1),'Age'] = guess_ages[i,j]\n",
        "    dataset['Age'] = dataset['Age'].astype(int)\n",
        "for dataset in combine:    \n",
        "    dataset.loc[ dataset['Age'] <= 16, 'Age'] = 0\n",
        "    dataset.loc[(dataset['Age'] > 16) & (dataset['Age'] <= 32), 'Age'] = 1\n",
        "    dataset.loc[(dataset['Age'] > 32) & (dataset['Age'] <= 48), 'Age'] = 2\n",
        "    dataset.loc[(dataset['Age'] > 48) & (dataset['Age'] <= 64), 'Age'] = 3\n",
        "    dataset.loc[ dataset['Age'] > 64, 'Age'] = 4\n",
        "combine = [train_data, test_data]"
      ]
    },
    {
      "cell_type": "code",
      "execution_count": 49,
      "metadata": {
        "id": "l1QbhRoY0fcv"
      },
      "outputs": [],
      "source": [
        "train_data['Embarked'] = train_data['Embarked'].map( {'S': 0, 'C': 1, 'Q': 2} ).astype(int)\n",
        "test_data['Embarked'] = test_data['Embarked'].map( {'S': 0, 'C': 1, 'Q': 2} ).astype(int)\n",
        "train_data = train_data.drop(['Sex'], axis=1)\n",
        "test_data = test_data.drop(['Sex'], axis=1)\n",
        "combine = [train_data, test_data]"
      ]
    },
    {
      "cell_type": "code",
      "execution_count": 50,
      "metadata": {
        "id": "0l2iLkBl0fcw",
        "outputId": "8c038bf1-e859-4255-f2ad-f0308e399577"
      },
      "outputs": [
        {
          "data": {
            "text/html": [
              "<div>\n",
              "<style scoped>\n",
              "    .dataframe tbody tr th:only-of-type {\n",
              "        vertical-align: middle;\n",
              "    }\n",
              "\n",
              "    .dataframe tbody tr th {\n",
              "        vertical-align: top;\n",
              "    }\n",
              "\n",
              "    .dataframe thead th {\n",
              "        text-align: right;\n",
              "    }\n",
              "</style>\n",
              "<table border=\"1\" class=\"dataframe\">\n",
              "  <thead>\n",
              "    <tr style=\"text-align: right;\">\n",
              "      <th></th>\n",
              "      <th>Survived</th>\n",
              "      <th>Pclass</th>\n",
              "      <th>Age</th>\n",
              "      <th>SibSp</th>\n",
              "      <th>Parch</th>\n",
              "      <th>Fare</th>\n",
              "      <th>Embarked</th>\n",
              "      <th>Title</th>\n",
              "      <th>isMale</th>\n",
              "      <th>isFemale</th>\n",
              "      <th>Family</th>\n",
              "      <th>isSingle</th>\n",
              "    </tr>\n",
              "  </thead>\n",
              "  <tbody>\n",
              "    <tr>\n",
              "      <th>0</th>\n",
              "      <td>0</td>\n",
              "      <td>3</td>\n",
              "      <td>1</td>\n",
              "      <td>1</td>\n",
              "      <td>0</td>\n",
              "      <td>0</td>\n",
              "      <td>0</td>\n",
              "      <td>1</td>\n",
              "      <td>1</td>\n",
              "      <td>0</td>\n",
              "      <td>1</td>\n",
              "      <td>0</td>\n",
              "    </tr>\n",
              "    <tr>\n",
              "      <th>1</th>\n",
              "      <td>1</td>\n",
              "      <td>1</td>\n",
              "      <td>2</td>\n",
              "      <td>1</td>\n",
              "      <td>0</td>\n",
              "      <td>3</td>\n",
              "      <td>1</td>\n",
              "      <td>3</td>\n",
              "      <td>0</td>\n",
              "      <td>1</td>\n",
              "      <td>1</td>\n",
              "      <td>0</td>\n",
              "    </tr>\n",
              "    <tr>\n",
              "      <th>2</th>\n",
              "      <td>1</td>\n",
              "      <td>3</td>\n",
              "      <td>1</td>\n",
              "      <td>0</td>\n",
              "      <td>0</td>\n",
              "      <td>1</td>\n",
              "      <td>0</td>\n",
              "      <td>2</td>\n",
              "      <td>0</td>\n",
              "      <td>1</td>\n",
              "      <td>0</td>\n",
              "      <td>1</td>\n",
              "    </tr>\n",
              "    <tr>\n",
              "      <th>3</th>\n",
              "      <td>1</td>\n",
              "      <td>1</td>\n",
              "      <td>2</td>\n",
              "      <td>1</td>\n",
              "      <td>0</td>\n",
              "      <td>3</td>\n",
              "      <td>0</td>\n",
              "      <td>3</td>\n",
              "      <td>0</td>\n",
              "      <td>1</td>\n",
              "      <td>1</td>\n",
              "      <td>0</td>\n",
              "    </tr>\n",
              "    <tr>\n",
              "      <th>4</th>\n",
              "      <td>0</td>\n",
              "      <td>3</td>\n",
              "      <td>2</td>\n",
              "      <td>0</td>\n",
              "      <td>0</td>\n",
              "      <td>1</td>\n",
              "      <td>0</td>\n",
              "      <td>1</td>\n",
              "      <td>1</td>\n",
              "      <td>0</td>\n",
              "      <td>0</td>\n",
              "      <td>1</td>\n",
              "    </tr>\n",
              "  </tbody>\n",
              "</table>\n",
              "</div>"
            ],
            "text/plain": [
              "   Survived  Pclass  Age  SibSp  Parch  Fare  Embarked  Title  isMale  \\\n",
              "0         0       3    1      1      0     0         0      1       1   \n",
              "1         1       1    2      1      0     3         1      3       0   \n",
              "2         1       3    1      0      0     1         0      2       0   \n",
              "3         1       1    2      1      0     3         0      3       0   \n",
              "4         0       3    2      0      0     1         0      1       1   \n",
              "\n",
              "   isFemale  Family  isSingle  \n",
              "0         0       1         0  \n",
              "1         1       1         0  \n",
              "2         1       0         1  \n",
              "3         1       1         0  \n",
              "4         0       0         1  "
            ]
          },
          "execution_count": 50,
          "metadata": {},
          "output_type": "execute_result"
        }
      ],
      "source": [
        "for dataset in combine:\n",
        "    dataset['Fare'].fillna(dataset['Fare'].dropna().median(), inplace=True)\n",
        "    dataset.loc[ dataset['Fare'] <= 7.91, 'Fare'] = 0\n",
        "    dataset.loc[(dataset['Fare'] > 7.91) & (dataset['Fare'] <= 14.454), 'Fare'] = 1\n",
        "    dataset.loc[(dataset['Fare'] > 14.454) & (dataset['Fare'] <= 31), 'Fare']   = 2\n",
        "    dataset.loc[ dataset['Fare'] > 31, 'Fare'] = 3\n",
        "    dataset['Fare'] = dataset['Fare'].astype(int)  \n",
        "combine = [train_data, test_data]\n",
        "train_data.head()"
      ]
    },
    {
      "cell_type": "markdown",
      "metadata": {
        "id": "OLDVvU9x00qz"
      },
      "source": [
        "# Gradient Boosting Classfication"
      ]
    },
    {
      "cell_type": "code",
      "execution_count": 51,
      "metadata": {
        "id": "U7gGXnWOFoax"
      },
      "outputs": [],
      "source": [
        "from sklearn.ensemble import GradientBoostingClassifier\n",
        "from sklearn.model_selection import GridSearchCV, cross_val_score, StratifiedKFold, learning_curve, train_test_split\n",
        "from sklearn.metrics import confusion_matrix, classification_report\n",
        "GBC = GradientBoostingClassifier(random_state = 2)\n",
        "kfold = StratifiedKFold(n_splits=10, shuffle=True)"
      ]
    },
    {
      "cell_type": "markdown",
      "metadata": {
        "id": "nNdRiSgy07QN"
      },
      "source": [
        "splitting training set & validating set"
      ]
    },
    {
      "cell_type": "code",
      "execution_count": 52,
      "metadata": {
        "id": "yD6TngNpmbKo"
      },
      "outputs": [],
      "source": [
        "X = train_data.drop([\"Survived\"], axis=1)\n",
        "y = train_data[\"Survived\"]\n",
        "X_train, X_val, y_train, y_val = train_test_split(X, y, shuffle=True, test_size=0.15)"
      ]
    },
    {
      "cell_type": "markdown",
      "metadata": {
        "id": "s0UgThPv1EC6"
      },
      "source": [
        "simple test for cross-validation score"
      ]
    },
    {
      "cell_type": "code",
      "execution_count": 53,
      "metadata": {
        "id": "wtzC8hzY0Jkk"
      },
      "outputs": [],
      "source": [
        "GbcCv = cross_val_score(GBC, X = X_train, y = y_train, scoring = \"accuracy\", cv = kfold)"
      ]
    },
    {
      "cell_type": "code",
      "execution_count": 54,
      "metadata": {
        "colab": {
          "base_uri": "https://localhost:8080/"
        },
        "id": "BxAco8oA1ljD",
        "outputId": "421492ac-82ee-482e-92ac-f1ce77aa2915"
      },
      "outputs": [
        {
          "data": {
            "text/plain": [
              "0.8229298245614034"
            ]
          },
          "execution_count": 54,
          "metadata": {},
          "output_type": "execute_result"
        }
      ],
      "source": [
        "GbcCv.mean()"
      ]
    },
    {
      "cell_type": "markdown",
      "metadata": {
        "id": "ZecroUil1OJJ"
      },
      "source": [
        "test with all default parameters"
      ]
    },
    {
      "cell_type": "code",
      "execution_count": 55,
      "metadata": {
        "id": "Rr3xVvh77SO8"
      },
      "outputs": [],
      "source": [
        "gbcclf = GradientBoostingClassifier()\n",
        "gbcclf.fit(X_train, y_train)\n",
        "y_predict =  gbcclf.predict(X_val)"
      ]
    },
    {
      "cell_type": "code",
      "execution_count": 56,
      "metadata": {
        "colab": {
          "base_uri": "https://localhost:8080/"
        },
        "id": "0NquALK67oR1",
        "outputId": "891d4380-f8f9-40f9-ae89-57b81490925c"
      },
      "outputs": [
        {
          "name": "stdout",
          "output_type": "stream",
          "text": [
            "accuracy: 0.835820895522388\n",
            "precision: 0.8928571428571429\n",
            "recall: 0.8928571428571429\n"
          ]
        }
      ],
      "source": [
        "cm = confusion_matrix(y_val, y_predict)\n",
        "print(\"accuracy:\",(cm[0][0]+cm[1][1])/(cm[0][0]+cm[0][1]+cm[1][0]+cm[1][1]))\n",
        "print(\"precision:\",(cm[0][0])/(cm[0][0]+cm[0][1]))\n",
        "print(\"recall:\",cm[0][0]/(cm[0][0]+cm[0][1]))"
      ]
    },
    {
      "cell_type": "markdown",
      "metadata": {
        "id": "nVxWuv6k1Vpf"
      },
      "source": [
        "use grid search to tune parameters"
      ]
    },
    {
      "cell_type": "code",
      "execution_count": 57,
      "metadata": {
        "colab": {
          "base_uri": "https://localhost:8080/"
        },
        "id": "m2_AkBlbQP2-",
        "outputId": "e1fcdd63-309f-45a6-8c6f-07df711fa9e0"
      },
      "outputs": [
        {
          "name": "stdout",
          "output_type": "stream",
          "text": [
            "Fitting 10 folds for each of 72 candidates, totalling 720 fits\n"
          ]
        },
        {
          "name": "stderr",
          "output_type": "stream",
          "text": [
            "[Parallel(n_jobs=-1)]: Using backend LokyBackend with 8 concurrent workers.\n",
            "[Parallel(n_jobs=-1)]: Done  34 tasks      | elapsed:   17.9s\n",
            "[Parallel(n_jobs=-1)]: Done 184 tasks      | elapsed:   39.1s\n",
            "[Parallel(n_jobs=-1)]: Done 434 tasks      | elapsed:  1.4min\n",
            "[Parallel(n_jobs=-1)]: Done 720 out of 720 | elapsed:  2.1min finished\n"
          ]
        },
        {
          "name": "stdout",
          "output_type": "stream",
          "text": [
            "0.8327715355805243\n",
            "{'learning_rate': 0.005, 'max_depth': 4, 'max_features': 0.3, 'n_estimators': 500}\n"
          ]
        }
      ],
      "source": [
        "gbcparam = {\"learning_rate\":[0.005, 0.01], \"n_estimators\":[100,300,500], \"max_depth\":[2,3,4], \"max_features\":[0.1, 0.3, 0.5, 1.0]}\n",
        "gridsearchclf = GridSearchCV(GradientBoostingClassifier(), param_grid = gbcparam, cv=kfold, scoring=\"accuracy\", n_jobs= -1, verbose = 1)\n",
        "gridsearchclf.fit(X, y)\n",
        "print(gridsearchclf.best_score_)\n",
        "print(gridsearchclf.best_params_)"
      ]
    },
    {
      "cell_type": "code",
      "execution_count": 58,
      "metadata": {
        "colab": {
          "base_uri": "https://localhost:8080/"
        },
        "id": "TLRwihEalVgw",
        "outputId": "9c4e320b-7f86-4b05-b1fb-2028279252f8"
      },
      "outputs": [
        {
          "name": "stdout",
          "output_type": "stream",
          "text": [
            "Fitting 10 folds for each of 486 candidates, totalling 4860 fits\n"
          ]
        },
        {
          "name": "stderr",
          "output_type": "stream",
          "text": [
            "[Parallel(n_jobs=-1)]: Using backend LokyBackend with 8 concurrent workers.\n",
            "[Parallel(n_jobs=-1)]: Done  52 tasks      | elapsed:    5.1s\n",
            "[Parallel(n_jobs=-1)]: Done 208 tasks      | elapsed:   36.7s\n",
            "[Parallel(n_jobs=-1)]: Done 458 tasks      | elapsed:  1.5min\n"
          ]
        }
      ],
      "source": [
        "gbcparam = {\"loss\":[\"deviance\",\"exponential\"], \"criterion\":[\"friedman_mse\",\"mse\",\"mae\"],\"learning_rate\":[0.005, 0.01, 0.5], \"n_estimators\":[100,300,500], \"max_depth\":[2,4,6], \"max_features\":[0.1, 0.3, 0.5]}\n",
        "gridsearchclf = GridSearchCV(GradientBoostingClassifier(), param_grid = gbcparam, cv=kfold, scoring=\"accuracy\", n_jobs= -1, verbose = 1)\n",
        "gridsearchclf.fit(X, y)\n",
        "print(gridsearchclf.best_score_)\n",
        "print(gridsearchclf.best_params_)"
      ]
    },
    {
      "cell_type": "code",
      "execution_count": null,
      "metadata": {
        "colab": {
          "base_uri": "https://localhost:8080/"
        },
        "id": "HbD_NH43laYs",
        "outputId": "d1eb00aa-8f52-4c94-f7fa-97f30d4b04bd"
      },
      "outputs": [
        {
          "name": "stdout",
          "output_type": "stream",
          "text": [
            "Fitting 10 folds for each of 45 candidates, totalling 450 fits\n"
          ]
        },
        {
          "name": "stderr",
          "output_type": "stream",
          "text": [
            "[Parallel(n_jobs=-1)]: Using backend LokyBackend with 8 concurrent workers.\n",
            "[Parallel(n_jobs=-1)]: Done  34 tasks      | elapsed:    6.0s\n",
            "[Parallel(n_jobs=-1)]: Done 184 tasks      | elapsed:   38.7s\n",
            "[Parallel(n_jobs=-1)]: Done 434 tasks      | elapsed:  2.0min\n",
            "[Parallel(n_jobs=-1)]: Done 450 out of 450 | elapsed:  2.2min finished\n"
          ]
        },
        {
          "name": "stdout",
          "output_type": "stream",
          "text": [
            "0.8304993757802747\n",
            "{'criterion': 'friedman_mse', 'learning_rate': 0.01, 'loss': 'deviance', 'max_depth': 4, 'max_features': 0.1, 'n_estimators': 300}\n"
          ]
        }
      ],
      "source": [
        "gbcparam = {\"loss\":[\"deviance\"], \"criterion\":[\"friedman_mse\"],\"learning_rate\":[0.01], \"n_estimators\":[300,500,800], \"max_depth\":[3,4,5], \"max_features\":[0.1, 0.3, 0.5, 0.7, 1.0]}\n",
        "gridsearchclf = GridSearchCV(GradientBoostingClassifier(), param_grid = gbcparam, cv=kfold, scoring=\"accuracy\", n_jobs= -1, verbose = 1)\n",
        "gridsearchclf.fit(X, y)\n",
        "print(gridsearchclf.best_score_)\n",
        "print(gridsearchclf.best_params_)"
      ]
    },
    {
      "cell_type": "markdown",
      "metadata": {
        "id": "5csc6DCV1bT8"
      },
      "source": [
        "final model for gradient boosting"
      ]
    },
    {
      "cell_type": "code",
      "execution_count": null,
      "metadata": {
        "id": "sfMXXHenlEZR"
      },
      "outputs": [],
      "source": [
        "gbcclf = GradientBoostingClassifier(learning_rate=0.01,criterion=\"friedman_mse\", loss=\"deviance\", max_depth=3, max_features=0.5, n_estimators=300)\r\n",
        "gbcclf.fit(X_train, y_train)\r\n",
        "y_predict =  gbcclf.predict(X_val)"
      ]
    },
    {
      "cell_type": "code",
      "execution_count": null,
      "metadata": {
        "colab": {
          "base_uri": "https://localhost:8080/"
        },
        "id": "B0EkIUJilEZR",
        "outputId": "79e379c6-1a6e-4844-c026-8722a89deebc"
      },
      "outputs": [
        {
          "name": "stdout",
          "output_type": "stream",
          "text": [
            "accuracy: 0.8134328358208955\n",
            "precision: 0.872093023255814\n",
            "recall: 0.872093023255814\n"
          ]
        }
      ],
      "source": [
        "cm = confusion_matrix(y_val, y_predict)\n",
        "print(\"accuracy:\",(cm[0][0]+cm[1][1])/(cm[0][0]+cm[0][1]+cm[1][0]+cm[1][1]))\n",
        "print(\"precision:\",(cm[0][0])/(cm[0][0]+cm[0][1]))\n",
        "print(\"recall:\",cm[0][0]/(cm[0][0]+cm[0][1]))"
      ]
    },
    {
      "cell_type": "code",
      "execution_count": null,
      "metadata": {
        "id": "4CxkBBvDIzFR",
        "outputId": "b6816418-e91b-4e45-9e16-d126eb606e1e"
      },
      "outputs": [
        {
          "name": "stdout",
          "output_type": "stream",
          "text": [
            "Fitting 10 folds for each of 112 candidates, totalling 1120 fits\n"
          ]
        },
        {
          "name": "stderr",
          "output_type": "stream",
          "text": [
            "[Parallel(n_jobs=4)]: Using backend LokyBackend with 4 concurrent workers.\n",
            "[Parallel(n_jobs=4)]: Done  56 tasks      | elapsed:    5.3s\n",
            "[Parallel(n_jobs=4)]: Done 1120 out of 1120 | elapsed:   10.3s finished\n"
          ]
        },
        {
          "data": {
            "text/plain": [
              "0.8081023720349562"
            ]
          },
          "execution_count": 41,
          "metadata": {},
          "output_type": "execute_result"
        }
      ],
      "source": [
        "from sklearn.ensemble import AdaBoostClassifier\n",
        "from sklearn.tree import DecisionTreeClassifier\n",
        "from sklearn.model_selection import GridSearchCV, cross_val_score, StratifiedKFold, learning_curve\n",
        "train_data[\"Survived\"] = train_data[\"Survived\"].astype(int)\n",
        "Y_train = train_data[\"Survived\"]\n",
        "\n",
        "X_train = train_data.drop(labels = [\"Survived\"],axis = 1)\n",
        "\n",
        "DTC = DecisionTreeClassifier()\n",
        "\n",
        "adaDTC = AdaBoostClassifier(DTC, n_estimators=50,  random_state=5 )\n",
        "\n",
        "ada_param_grid = {\"base_estimator__criterion\" : [\"gini\", \"entropy\"],\n",
        "              \"base_estimator__splitter\" :   [\"best\", \"random\"],\n",
        "              \"algorithm\" : [\"SAMME\",\"SAMME.R\"],\n",
        "              \"n_estimators\" :[1,2],\n",
        "              \"learning_rate\":  [0.0001, 0.001, 0.01, 0.1, 0.2, 0.3, 1.5]}\n",
        "\n",
        "gsadaDTC = GridSearchCV(adaDTC,param_grid = ada_param_grid, cv=kfold, scoring=\"accuracy\", n_jobs= 4, verbose = 1)\n",
        "\n",
        "gsadaDTC.fit(X_train,Y_train)\n",
        "\n",
        "ada_best = gsadaDTC.best_estimator_\n",
        "gsadaDTC.best_score_"
      ]
    },
    {
      "cell_type": "code",
      "execution_count": null,
      "metadata": {
        "id": "vBwVteHHIzFS",
        "outputId": "419e66a6-9718-45b9-c858-01662408a314"
      },
      "outputs": [
        {
          "data": {
            "image/png": "[encoded data removed]",
            "text/plain": [
              "<Figure size 432x288 with 1 Axes>"
            ]
          },
          "metadata": {
            "needs_background": "light"
          },
          "output_type": "display_data"
        }
      ],
      "source": [
        "def plot_learning_curve(estimator, title, X, y, ylim=None, cv=None,\n",
        "                        n_jobs=-1, train_sizes=np.linspace(.1, 1.0, 5)):\n",
        "    \"\"\"Generate a simple plot of the test and training learning curve\"\"\"\n",
        "    plt.figure()\n",
        "    plt.title(title)\n",
        "    if ylim is not None:\n",
        "        plt.ylim(*ylim)\n",
        "    plt.xlabel(\"Training examples\")\n",
        "    plt.ylabel(\"Score\")\n",
        "    train_sizes, train_scores, test_scores = learning_curve(\n",
        "        estimator, X, y, cv=cv, n_jobs=n_jobs, train_sizes=train_sizes)\n",
        "    train_scores_mean = np.mean(train_scores, axis=1)\n",
        "    train_scores_std = np.std(train_scores, axis=1)\n",
        "    test_scores_mean = np.mean(test_scores, axis=1)\n",
        "    test_scores_std = np.std(test_scores, axis=1)\n",
        "    plt.grid()\n",
        "\n",
        "    plt.fill_between(train_sizes, train_scores_mean - train_scores_std,\n",
        "                     train_scores_mean + train_scores_std, alpha=0.1,\n",
        "                     color=\"r\")\n",
        "    plt.fill_between(train_sizes, test_scores_mean - test_scores_std,\n",
        "                     test_scores_mean + test_scores_std, alpha=0.1, color=\"g\")\n",
        "    plt.plot(train_sizes, train_scores_mean, 'o-', color=\"r\",\n",
        "             label=\"Training score\")\n",
        "    plt.plot(train_sizes, test_scores_mean, 'o-', color=\"g\",\n",
        "             label=\"Cross-validation score\")\n",
        "\n",
        "    plt.legend(loc=\"best\")\n",
        "    return plt\n",
        "g = plot_learning_curve(gsadaDTC.best_estimator_,\"AdaBoost learning curves\",X_train,Y_train,cv=kfold)"
      ]
    },
    {
      "cell_type": "markdown",
      "metadata": {
        "id": "VM4ztuSEI54o"
      },
      "source": [
        "# SVM"
      ]
    },
    {
      "cell_type": "code",
      "execution_count": null,
      "metadata": {
        "id": "TA99aXlQUjmL"
      },
      "outputs": [],
      "source": [
        "from sklearn.svm import SVC\n",
        "svmclf = SVC()\n",
        "kfold = StratifiedKFold(n_splits=10, shuffle=True)\n",
        "X = train_data.drop([\"Survived\"], axis=1)\n",
        "y = train_data[\"Survived\"]\n",
        "X_train, X_val, y_train, y_val = train_test_split(X, y, shuffle=True, test_size=0.15)"
      ]
    },
    {
      "cell_type": "markdown",
      "metadata": {
        "id": "o9IK5CP0JHg0"
      },
      "source": [
        "simple test for cross-validation score"
      ]
    },
    {
      "cell_type": "code",
      "execution_count": null,
      "metadata": {
        "colab": {
          "base_uri": "https://localhost:8080/"
        },
        "id": "3ex2w9UbVsO_",
        "outputId": "fac3a081-4789-47ab-b925-676e7774479b"
      },
      "outputs": [
        {
          "data": {
            "text/plain": [
              "0.828314606741573"
            ]
          },
          "execution_count": 44,
          "metadata": {},
          "output_type": "execute_result"
        }
      ],
      "source": [
        "SvmCv = cross_val_score(svmclf, X = X, y = y, scoring = \"accuracy\", cv = kfold)\n",
        "SvmCv.mean()"
      ]
    },
    {
      "cell_type": "markdown",
      "metadata": {
        "id": "tZBAQlD9JL8a"
      },
      "source": [
        "test with default parameters"
      ]
    },
    {
      "cell_type": "code",
      "execution_count": null,
      "metadata": {
        "colab": {
          "base_uri": "https://localhost:8080/"
        },
        "id": "12EM_fYKV40z",
        "outputId": "ea71d49a-3fc8-4db5-c448-184ad48a150b"
      },
      "outputs": [
        {
          "name": "stdout",
          "output_type": "stream",
          "text": [
            "accuracy: 0.8432835820895522\n",
            "precision: 0.8928571428571429\n",
            "recall: 0.8928571428571429\n"
          ]
        }
      ],
      "source": [
        "svmclf.fit(X_train, y_train)\n",
        "y_predict =  svmclf.predict(X_val)\n",
        "cm = confusion_matrix(y_val, y_predict)\n",
        "print(\"accuracy:\",(cm[0][0]+cm[1][1])/(cm[0][0]+cm[0][1]+cm[1][0]+cm[1][1]))\n",
        "print(\"precision:\",(cm[0][0])/(cm[0][0]+cm[0][1]))\n",
        "print(\"recall:\",cm[0][0]/(cm[0][0]+cm[0][1]))"
      ]
    },
    {
      "cell_type": "markdown",
      "metadata": {
        "id": "Xd6vdW1BJQBk"
      },
      "source": [
        "tuning parameters"
      ]
    },
    {
      "cell_type": "code",
      "execution_count": null,
      "metadata": {
        "id": "qGStLeNWWUj2"
      },
      "outputs": [
        {
          "name": "stderr",
          "output_type": "stream",
          "text": [
            "[Parallel(n_jobs=-1)]: Using backend LokyBackend with 8 concurrent workers.\n"
          ]
        },
        {
          "name": "stdout",
          "output_type": "stream",
          "text": [
            "Fitting 10 folds for each of 4 candidates, totalling 40 fits\n"
          ]
        },
        {
          "name": "stderr",
          "output_type": "stream",
          "text": [
            "[Parallel(n_jobs=-1)]: Done  40 out of  40 | elapsed:   17.9s finished\n"
          ]
        },
        {
          "name": "stdout",
          "output_type": "stream",
          "text": [
            "0.8270911360799001\n",
            "{'kernel': 'rbf'}\n"
          ]
        }
      ],
      "source": [
        "svmparam = {\"kernel\":[\"linear\",\"poly\",\"rbf\",\"sigmoid\"]}\r\n",
        "gridsearchclf = GridSearchCV(SVC(probability=1), param_grid = svmparam, cv=kfold, scoring=\"accuracy\", n_jobs= -1, verbose = 1)\r\n",
        "gridsearchclf.fit(X, y)\r\n",
        "print(gridsearchclf.best_score_)\r\n",
        "print(gridsearchclf.best_params_)"
      ]
    },
    {
      "cell_type": "code",
      "execution_count": null,
      "metadata": {
        "id": "J9GHarcnXj3R"
      },
      "outputs": [
        {
          "name": "stdout",
          "output_type": "stream",
          "text": [
            "Fitting 10 folds for each of 18 candidates, totalling 180 fits\n",
            "[CV] C=0.1, gamma=0.1, kernel=poly ...................................\n",
            "[CV] ....... C=0.1, gamma=0.1, kernel=poly, score=0.856, total=   0.0s\n",
            "[CV] C=0.1, gamma=0.1, kernel=poly ...................................\n",
            "[CV] ....... C=0.1, gamma=0.1, kernel=poly, score=0.820, total=   0.1s\n",
            "[CV] C=0.1, gamma=0.1, kernel=poly ...................................\n",
            "[CV] ....... C=0.1, gamma=0.1, kernel=poly, score=0.798, total=   0.1s"
          ]
        },
        {
          "name": "stderr",
          "output_type": "stream",
          "text": [
            "[Parallel(n_jobs=1)]: Using backend SequentialBackend with 1 concurrent workers.\n",
            "[Parallel(n_jobs=1)]: Done   1 out of   1 | elapsed:    0.0s remaining:    0.0s\n",
            "[Parallel(n_jobs=1)]: Done   2 out of   2 | elapsed:    0.0s remaining:    0.0s\n"
          ]
        },
        {
          "name": "stdout",
          "output_type": "stream",
          "text": [
            "\n",
            "[CV] C=0.1, gamma=0.1, kernel=poly ...................................\n",
            "[CV] ....... C=0.1, gamma=0.1, kernel=poly, score=0.775, total=   0.1s\n",
            "[CV] C=0.1, gamma=0.1, kernel=poly ...................................\n",
            "[CV] ....... C=0.1, gamma=0.1, kernel=poly, score=0.865, total=   0.1s\n",
            "[CV] C=0.1, gamma=0.1, kernel=poly ...................................\n",
            "[CV] ....... C=0.1, gamma=0.1, kernel=poly, score=0.787, total=   0.1s\n",
            "[CV] C=0.1, gamma=0.1, kernel=poly ..................................."
          ]
        },
        {
          "name": "stderr",
          "output_type": "stream",
          "text": [
            "[Parallel(n_jobs=1)]: Done   3 out of   3 | elapsed:    0.1s remaining:    0.0s\n"
          ]
        },
        {
          "name": "stdout",
          "output_type": "stream",
          "text": [
            "\n",
            "[CV] ....... C=0.1, gamma=0.1, kernel=poly, score=0.809, total=   0.1s\n",
            "[CV] C=0.1, gamma=0.1, kernel=poly ...................................\n",
            "[CV] ....... C=0.1, gamma=0.1, kernel=poly, score=0.809, total=   0.1s\n",
            "[CV] C=0.1, gamma=0.1, kernel=poly ...................................\n",
            "[CV] ....... C=0.1, gamma=0.1, kernel=poly, score=0.820, total=   0.1s\n",
            "[CV] C=0.1, gamma=0.1, kernel=poly ...................................\n",
            "[CV] ....... C=0.1, gamma=0.1, kernel=poly, score=0.854, total=   0.1s\n",
            "[CV] C=0.1, gamma=0.1, kernel=rbf ....................................\n",
            "[CV] ........ C=0.1, gamma=0.1, kernel=rbf, score=0.856, total=   0.1s\n",
            "[CV] C=0.1, gamma=0.1, kernel=rbf ....................................\n",
            "[CV] ........ C=0.1, gamma=0.1, kernel=rbf, score=0.831, total=   0.1s\n",
            "[CV] C=0.1, gamma=0.1, kernel=rbf ....................................\n",
            "[CV] ........ C=0.1, gamma=0.1, kernel=rbf, score=0.753, total=   0.1s\n",
            "[CV] C=0.1, gamma=0.1, kernel=rbf ....................................\n",
            "[CV] ........ C=0.1, gamma=0.1, kernel=rbf, score=0.787, total=   0.1s\n",
            "[CV] C=0.1, gamma=0.1, kernel=rbf ....................................\n",
            "[CV] ........ C=0.1, gamma=0.1, kernel=rbf, score=0.876, total=   0.1s\n",
            "[CV] C=0.1, gamma=0.1, kernel=rbf ....................................\n",
            "[CV] ........ C=0.1, gamma=0.1, kernel=rbf, score=0.764, total=   0.1s\n",
            "[CV] C=0.1, gamma=0.1, kernel=rbf ....................................\n",
            "[CV] ........ C=0.1, gamma=0.1, kernel=rbf, score=0.843, total=   0.1s\n",
            "[CV] C=0.1, gamma=0.1, kernel=rbf ....................................\n",
            "[CV] ........ C=0.1, gamma=0.1, kernel=rbf, score=0.831, total=   0.1s\n",
            "[CV] C=0.1, gamma=0.1, kernel=rbf ....................................\n",
            "[CV] ........ C=0.1, gamma=0.1, kernel=rbf, score=0.787, total=   0.1s\n",
            "[CV] C=0.1, gamma=0.1, kernel=rbf ....................................\n",
            "[CV] ........ C=0.1, gamma=0.1, kernel=rbf, score=0.865, total=   0.1s\n",
            "[CV] C=0.1, gamma=1, kernel=poly .....................................\n",
            "[CV] ......... C=0.1, gamma=1, kernel=poly, score=0.833, total=   3.0s\n",
            "[CV] C=0.1, gamma=1, kernel=poly .....................................\n",
            "[CV] ......... C=0.1, gamma=1, kernel=poly, score=0.798, total=   2.8s\n",
            "[CV] C=0.1, gamma=1, kernel=poly .....................................\n",
            "[CV] ......... C=0.1, gamma=1, kernel=poly, score=0.742, total=   1.3s\n",
            "[CV] C=0.1, gamma=1, kernel=poly .....................................\n",
            "[CV] ......... C=0.1, gamma=1, kernel=poly, score=0.787, total=   1.0s\n",
            "[CV] C=0.1, gamma=1, kernel=poly .....................................\n",
            "[CV] ......... C=0.1, gamma=1, kernel=poly, score=0.865, total=   3.3s\n",
            "[CV] C=0.1, gamma=1, kernel=poly .....................................\n",
            "[CV] ......... C=0.1, gamma=1, kernel=poly, score=0.775, total=   1.5s\n",
            "[CV] C=0.1, gamma=1, kernel=poly .....................................\n",
            "[CV] ......... C=0.1, gamma=1, kernel=poly, score=0.820, total=   0.9s\n",
            "[CV] C=0.1, gamma=1, kernel=poly .....................................\n",
            "[CV] ......... C=0.1, gamma=1, kernel=poly, score=0.708, total=   1.0s\n",
            "[CV] C=0.1, gamma=1, kernel=poly .....................................\n",
            "[CV] ......... C=0.1, gamma=1, kernel=poly, score=0.798, total=   4.4s\n",
            "[CV] C=0.1, gamma=1, kernel=poly .....................................\n",
            "[CV] ......... C=0.1, gamma=1, kernel=poly, score=0.787, total=   2.9s\n",
            "[CV] C=0.1, gamma=1, kernel=rbf ......................................\n",
            "[CV] .......... C=0.1, gamma=1, kernel=rbf, score=0.789, total=   0.0s\n",
            "[CV] C=0.1, gamma=1, kernel=rbf ......................................\n",
            "[CV] .......... C=0.1, gamma=1, kernel=rbf, score=0.697, total=   0.0s\n",
            "[CV] C=0.1, gamma=1, kernel=rbf ......................................\n",
            "[CV] .......... C=0.1, gamma=1, kernel=rbf, score=0.730, total=   0.0s\n",
            "[CV] C=0.1, gamma=1, kernel=rbf ......................................\n",
            "[CV] .......... C=0.1, gamma=1, kernel=rbf, score=0.742, total=   0.0s\n",
            "[CV] C=0.1, gamma=1, kernel=rbf ......................................\n",
            "[CV] .......... C=0.1, gamma=1, kernel=rbf, score=0.719, total=   0.0s\n",
            "[CV] C=0.1, gamma=1, kernel=rbf ......................................\n",
            "[CV] .......... C=0.1, gamma=1, kernel=rbf, score=0.719, total=   0.0s\n",
            "[CV] C=0.1, gamma=1, kernel=rbf ......................................\n",
            "[CV] .......... C=0.1, gamma=1, kernel=rbf, score=0.719, total=   0.0s\n",
            "[CV] C=0.1, gamma=1, kernel=rbf ......................................\n",
            "[CV] .......... C=0.1, gamma=1, kernel=rbf, score=0.685, total=   0.0s\n",
            "[CV] C=0.1, gamma=1, kernel=rbf ......................................\n",
            "[CV] .......... C=0.1, gamma=1, kernel=rbf, score=0.719, total=   0.0s\n",
            "[CV] C=0.1, gamma=1, kernel=rbf ......................................\n",
            "[CV] .......... C=0.1, gamma=1, kernel=rbf, score=0.719, total=   0.0s\n",
            "[CV] C=0.1, gamma=10, kernel=poly ....................................\n",
            "[CV] ........ C=0.1, gamma=10, kernel=poly, score=0.822, total= 3.7min\n",
            "[CV] C=0.1, gamma=10, kernel=poly ....................................\n",
            "[CV] ........ C=0.1, gamma=10, kernel=poly, score=0.809, total= 1.7min\n",
            "[CV] C=0.1, gamma=10, kernel=poly ....................................\n",
            "[CV] ........ C=0.1, gamma=10, kernel=poly, score=0.730, total= 2.4min\n",
            "[CV] C=0.1, gamma=10, kernel=poly ....................................\n",
            "[CV] ........ C=0.1, gamma=10, kernel=poly, score=0.753, total=  44.5s\n",
            "[CV] C=0.1, gamma=10, kernel=poly ....................................\n",
            "[CV] ........ C=0.1, gamma=10, kernel=poly, score=0.854, total= 3.1min\n",
            "[CV] C=0.1, gamma=10, kernel=poly ....................................\n",
            "[CV] ........ C=0.1, gamma=10, kernel=poly, score=0.775, total= 1.7min\n",
            "[CV] C=0.1, gamma=10, kernel=poly ....................................\n",
            "[CV] ........ C=0.1, gamma=10, kernel=poly, score=0.798, total= 2.0min\n",
            "[CV] C=0.1, gamma=10, kernel=poly ....................................\n",
            "[CV] ........ C=0.1, gamma=10, kernel=poly, score=0.719, total=  41.0s\n",
            "[CV] C=0.1, gamma=10, kernel=poly ....................................\n",
            "[CV] ........ C=0.1, gamma=10, kernel=poly, score=0.775, total= 3.4min\n",
            "[CV] C=0.1, gamma=10, kernel=poly ....................................\n",
            "[CV] ........ C=0.1, gamma=10, kernel=poly, score=0.809, total= 1.3min\n",
            "[CV] C=0.1, gamma=10, kernel=rbf .....................................\n",
            "[CV] ......... C=0.1, gamma=10, kernel=rbf, score=0.622, total=   0.1s\n",
            "[CV] C=0.1, gamma=10, kernel=rbf .....................................\n",
            "[CV] ......... C=0.1, gamma=10, kernel=rbf, score=0.596, total=   0.1s\n",
            "[CV] C=0.1, gamma=10, kernel=rbf .....................................\n",
            "[CV] ......... C=0.1, gamma=10, kernel=rbf, score=0.652, total=   0.1s\n",
            "[CV] C=0.1, gamma=10, kernel=rbf .....................................\n",
            "[CV] ......... C=0.1, gamma=10, kernel=rbf, score=0.663, total=   0.1s\n",
            "[CV] C=0.1, gamma=10, kernel=rbf .....................................\n",
            "[CV] ......... C=0.1, gamma=10, kernel=rbf, score=0.629, total=   0.1s\n",
            "[CV] C=0.1, gamma=10, kernel=rbf .....................................\n",
            "[CV] ......... C=0.1, gamma=10, kernel=rbf, score=0.618, total=   0.1s\n",
            "[CV] C=0.1, gamma=10, kernel=rbf .....................................\n",
            "[CV] ......... C=0.1, gamma=10, kernel=rbf, score=0.652, total=   0.1s\n",
            "[CV] C=0.1, gamma=10, kernel=rbf .....................................\n",
            "[CV] ......... C=0.1, gamma=10, kernel=rbf, score=0.618, total=   0.1s\n",
            "[CV] C=0.1, gamma=10, kernel=rbf .....................................\n",
            "[CV] ......... C=0.1, gamma=10, kernel=rbf, score=0.640, total=   0.1s\n",
            "[CV] C=0.1, gamma=10, kernel=rbf .....................................\n",
            "[CV] ......... C=0.1, gamma=10, kernel=rbf, score=0.629, total=   0.1s\n",
            "[CV] C=1, gamma=0.1, kernel=poly .....................................\n",
            "[CV] ......... C=1, gamma=0.1, kernel=poly, score=0.856, total=   0.1s\n",
            "[CV] C=1, gamma=0.1, kernel=poly .....................................\n",
            "[CV] ......... C=1, gamma=0.1, kernel=poly, score=0.809, total=   0.1s\n",
            "[CV] C=1, gamma=0.1, kernel=poly .....................................\n",
            "[CV] ......... C=1, gamma=0.1, kernel=poly, score=0.820, total=   0.1s\n",
            "[CV] C=1, gamma=0.1, kernel=poly .....................................\n",
            "[CV] ......... C=1, gamma=0.1, kernel=poly, score=0.798, total=   0.1s\n",
            "[CV] C=1, gamma=0.1, kernel=poly .....................................\n",
            "[CV] ......... C=1, gamma=0.1, kernel=poly, score=0.876, total=   0.2s\n",
            "[CV] C=1, gamma=0.1, kernel=poly .....................................\n",
            "[CV] ......... C=1, gamma=0.1, kernel=poly, score=0.809, total=   0.1s\n",
            "[CV] C=1, gamma=0.1, kernel=poly .....................................\n",
            "[CV] ......... C=1, gamma=0.1, kernel=poly, score=0.820, total=   0.3s\n",
            "[CV] C=1, gamma=0.1, kernel=poly .....................................\n",
            "[CV] ......... C=1, gamma=0.1, kernel=poly, score=0.764, total=   0.1s\n",
            "[CV] C=1, gamma=0.1, kernel=poly .....................................\n",
            "[CV] ......... C=1, gamma=0.1, kernel=poly, score=0.820, total=   0.1s\n",
            "[CV] C=1, gamma=0.1, kernel=poly .....................................\n",
            "[CV] ......... C=1, gamma=0.1, kernel=poly, score=0.854, total=   0.1s\n",
            "[CV] C=1, gamma=0.1, kernel=rbf ......................................\n",
            "[CV] .......... C=1, gamma=0.1, kernel=rbf, score=0.856, total=   0.1s\n",
            "[CV] C=1, gamma=0.1, kernel=rbf ......................................\n",
            "[CV] .......... C=1, gamma=0.1, kernel=rbf, score=0.831, total=   0.1s\n",
            "[CV] C=1, gamma=0.1, kernel=rbf ......................................\n",
            "[CV] .......... C=1, gamma=0.1, kernel=rbf, score=0.787, total=   0.1s\n",
            "[CV] C=1, gamma=0.1, kernel=rbf ......................................\n",
            "[CV] .......... C=1, gamma=0.1, kernel=rbf, score=0.787, total=   0.1s\n",
            "[CV] C=1, gamma=0.1, kernel=rbf ......................................\n",
            "[CV] .......... C=1, gamma=0.1, kernel=rbf, score=0.876, total=   0.1s\n",
            "[CV] C=1, gamma=0.1, kernel=rbf ......................................\n",
            "[CV] .......... C=1, gamma=0.1, kernel=rbf, score=0.820, total=   0.1s\n",
            "[CV] C=1, gamma=0.1, kernel=rbf ......................................\n",
            "[CV] .......... C=1, gamma=0.1, kernel=rbf, score=0.831, total=   0.1s\n",
            "[CV] C=1, gamma=0.1, kernel=rbf ......................................\n",
            "[CV] .......... C=1, gamma=0.1, kernel=rbf, score=0.809, total=   0.1s\n",
            "[CV] C=1, gamma=0.1, kernel=rbf ......................................\n",
            "[CV] .......... C=1, gamma=0.1, kernel=rbf, score=0.809, total=   0.1s\n",
            "[CV] C=1, gamma=0.1, kernel=rbf ......................................\n",
            "[CV] .......... C=1, gamma=0.1, kernel=rbf, score=0.854, total=   0.1s\n",
            "[CV] C=1, gamma=1, kernel=poly .......................................\n",
            "[CV] ........... C=1, gamma=1, kernel=poly, score=0.822, total=  34.9s\n",
            "[CV] C=1, gamma=1, kernel=poly .......................................\n",
            "[CV] ........... C=1, gamma=1, kernel=poly, score=0.798, total=  24.9s\n",
            "[CV] C=1, gamma=1, kernel=poly .......................................\n",
            "[CV] ........... C=1, gamma=1, kernel=poly, score=0.708, total=  49.4s\n",
            "[CV] C=1, gamma=1, kernel=poly .......................................\n",
            "[CV] ........... C=1, gamma=1, kernel=poly, score=0.753, total=  22.9s\n",
            "[CV] C=1, gamma=1, kernel=poly .......................................\n",
            "[CV] ........... C=1, gamma=1, kernel=poly, score=0.865, total=  20.3s\n",
            "[CV] C=1, gamma=1, kernel=poly .......................................\n",
            "[CV] ........... C=1, gamma=1, kernel=poly, score=0.787, total=   4.5s\n",
            "[CV] C=1, gamma=1, kernel=poly .......................................\n",
            "[CV] ........... C=1, gamma=1, kernel=poly, score=0.753, total=   6.5s\n",
            "[CV] C=1, gamma=1, kernel=poly .......................................\n",
            "[CV] ........... C=1, gamma=1, kernel=poly, score=0.719, total=  10.1s\n",
            "[CV] C=1, gamma=1, kernel=poly .......................................\n",
            "[CV] ........... C=1, gamma=1, kernel=poly, score=0.775, total=  14.2s\n",
            "[CV] C=1, gamma=1, kernel=poly .......................................\n",
            "[CV] ........... C=1, gamma=1, kernel=poly, score=0.798, total=  12.5s\n",
            "[CV] C=1, gamma=1, kernel=rbf ........................................\n",
            "[CV] ............ C=1, gamma=1, kernel=rbf, score=0.833, total=   0.0s\n",
            "[CV] C=1, gamma=1, kernel=rbf ........................................\n",
            "[CV] ............ C=1, gamma=1, kernel=rbf, score=0.831, total=   0.0s\n",
            "[CV] C=1, gamma=1, kernel=rbf ........................................\n",
            "[CV] ............ C=1, gamma=1, kernel=rbf, score=0.798, total=   0.0s\n",
            "[CV] C=1, gamma=1, kernel=rbf ........................................\n",
            "[CV] ............ C=1, gamma=1, kernel=rbf, score=0.798, total=   0.0s\n",
            "[CV] C=1, gamma=1, kernel=rbf ........................................\n",
            "[CV] ............ C=1, gamma=1, kernel=rbf, score=0.854, total=   0.0s\n",
            "[CV] C=1, gamma=1, kernel=rbf ........................................\n",
            "[CV] ............ C=1, gamma=1, kernel=rbf, score=0.798, total=   0.0s\n",
            "[CV] C=1, gamma=1, kernel=rbf ........................................\n",
            "[CV] ............ C=1, gamma=1, kernel=rbf, score=0.809, total=   0.0s\n",
            "[CV] C=1, gamma=1, kernel=rbf ........................................\n",
            "[CV] ............ C=1, gamma=1, kernel=rbf, score=0.787, total=   0.0s\n",
            "[CV] C=1, gamma=1, kernel=rbf ........................................\n",
            "[CV] ............ C=1, gamma=1, kernel=rbf, score=0.820, total=   0.0s\n",
            "[CV] C=1, gamma=1, kernel=rbf ........................................\n",
            "[CV] ............ C=1, gamma=1, kernel=rbf, score=0.809, total=   0.0s\n",
            "[CV] C=1, gamma=10, kernel=poly ......................................\n",
            "[CV] .......... C=1, gamma=10, kernel=poly, score=0.822, total= 8.3min\n",
            "[CV] C=1, gamma=10, kernel=poly ......................................\n",
            "[CV] .......... C=1, gamma=10, kernel=poly, score=0.809, total= 1.6min\n",
            "[CV] C=1, gamma=10, kernel=poly ......................................\n"
          ]
        }
      ],
      "source": [
        "svmparam = {\"kernel\":[\"poly\",\"rbf\"], \"C\":[0.1,1,10], \"gamma\":[0.1,1,10]}\r\n",
        "gridsearchclf = GridSearchCV(SVC(probability=1), param_grid = svmparam, cv=kfold, scoring=\"accuracy\", verbose = 4)\r\n",
        "gridsearchclf.fit(X, y)\r\n",
        "print(gridsearchclf.best_score_)\r\n",
        "print(gridsearchclf.best_params_)"
      ]
    },
    {
      "cell_type": "code",
      "execution_count": null,
      "metadata": {
        "colab": {
          "base_uri": "https://localhost:8080/"
        },
        "id": "iC4tLrn0HBgn",
        "outputId": "fdb77d6d-8dcf-43cb-cc0e-cda1c699a1db"
      },
      "outputs": [
        {
          "name": "stdout",
          "output_type": "stream",
          "text": [
            "Fitting 10 folds for each of 9 candidates, totalling 90 fits\n"
          ]
        },
        {
          "name": "stderr",
          "output_type": "stream",
          "text": [
            "[Parallel(n_jobs=1)]: Using backend SequentialBackend with 1 concurrent workers.\n"
          ]
        },
        {
          "name": "stdout",
          "output_type": "stream",
          "text": [
            "0.8316354556803995\n",
            "{'C': 100, 'gamma': 0.01, 'kernel': 'rbf'}\n"
          ]
        },
        {
          "name": "stderr",
          "output_type": "stream",
          "text": [
            "[Parallel(n_jobs=1)]: Done  90 out of  90 | elapsed:    5.3s finished\n"
          ]
        }
      ],
      "source": [
        "svmparam = {\"kernel\":[\"rbf\"], \"C\":[10,100,1000], \"gamma\":[0.001,0.01,0.1]}\r\n",
        "gridsearchclf = GridSearchCV(SVC(probability=1), param_grid = svmparam, cv=kfold, scoring=\"accuracy\", verbose = 1)\r\n",
        "gridsearchclf.fit(X, y)\r\n",
        "print(gridsearchclf.best_score_)\r\n",
        "print(gridsearchclf.best_params_)"
      ]
    },
    {
      "cell_type": "markdown",
      "metadata": {
        "id": "mIT6neInJTky"
      },
      "source": [
        "final SVC model"
      ]
    },
    {
      "cell_type": "code",
      "execution_count": null,
      "metadata": {
        "colab": {
          "base_uri": "https://localhost:8080/"
        },
        "id": "zs-zwj8WIByr",
        "outputId": "9309942d-d2bd-4d80-ad1e-0e6c018aafda"
      },
      "outputs": [
        {
          "name": "stdout",
          "output_type": "stream",
          "text": [
            "accuracy: 0.8432835820895522\n",
            "precision: 0.8809523809523809\n",
            "recall: 0.8809523809523809\n"
          ]
        }
      ],
      "source": [
        "svmclf = SVC(C=100, gamma=0.01, kernel=\"rbf\", probability=1)\r\n",
        "svmclf.fit(X_train, y_train)\r\n",
        "y_predict =  svmclf.predict(X_val)\r\n",
        "cm = confusion_matrix(y_val, y_predict)\r\n",
        "print(\"accuracy:\",(cm[0][0]+cm[1][1])/(cm[0][0]+cm[0][1]+cm[1][0]+cm[1][1]))\r\n",
        "print(\"precision:\",(cm[0][0])/(cm[0][0]+cm[0][1]))\r\n",
        "print(\"recall:\",cm[0][0]/(cm[0][0]+cm[0][1]))"
      ]
    },
    {
      "cell_type": "markdown",
      "metadata": {},
      "source": [
        "# Random Forest Classifier"
      ]
    },
    {
      "cell_type": "code",
      "execution_count": null,
      "metadata": {},
      "outputs": [],
      "source": [
        "from sklearn.ensemble import RandomForestClassifier\n",
        "import sklearn.metrics\n",
        "single_best_model = RandomForestClassifier(criterion='gini',\n",
        "                                           n_estimators=1100,\n",
        "                                           max_depth=5,\n",
        "                                           min_samples_split=4,\n",
        "                                           min_samples_leaf=5,\n",
        "                                           max_features='auto',\n",
        "                                           oob_score=True,\n",
        "                                           random_state=42,\n",
        "                                           n_jobs=-1,\n",
        "                                           verbose=1)"
      ]
    },
    {
      "cell_type": "code",
      "execution_count": null,
      "metadata": {},
      "outputs": [
        {
          "name": "stderr",
          "output_type": "stream",
          "text": [
            "[Parallel(n_jobs=-1)]: Using backend ThreadingBackend with 8 concurrent workers.\n",
            "[Parallel(n_jobs=-1)]: Done  34 tasks      | elapsed:    0.0s\n",
            "[Parallel(n_jobs=-1)]: Done 184 tasks      | elapsed:    0.2s\n",
            "[Parallel(n_jobs=-1)]: Done 434 tasks      | elapsed:    0.6s\n",
            "[Parallel(n_jobs=-1)]: Done 784 tasks      | elapsed:    1.1s\n",
            "[Parallel(n_jobs=-1)]: Done 1100 out of 1100 | elapsed:    1.6s finished\n",
            "[Parallel(n_jobs=8)]: Using backend ThreadingBackend with 8 concurrent workers.\n",
            "[Parallel(n_jobs=8)]: Done  34 tasks      | elapsed:    0.0s\n",
            "[Parallel(n_jobs=8)]: Done 184 tasks      | elapsed:    0.0s\n",
            "[Parallel(n_jobs=8)]: Done 434 tasks      | elapsed:    0.0s\n",
            "[Parallel(n_jobs=8)]: Done 784 tasks      | elapsed:    0.1s\n",
            "[Parallel(n_jobs=8)]: Done 1100 out of 1100 | elapsed:    0.1s finished\n"
          ]
        },
        {
          "name": "stdout",
          "output_type": "stream",
          "text": [
            "Accuracy: 0.8507462686567164\n"
          ]
        }
      ],
      "source": [
        "single_best_model.fit(X_train, y_train)\n",
        "y_pred=single_best_model.predict(X_val)\n",
        "print(\"Accuracy:\", sklearn.metrics.accuracy_score(y_val, y_pred))"
      ]
    },
    {
      "cell_type": "markdown",
      "metadata": {},
      "source": [
        "## Feature Importance"
      ]
    },
    {
      "cell_type": "code",
      "execution_count": null,
      "metadata": {},
      "outputs": [
        {
          "name": "stderr",
          "output_type": "stream",
          "text": [
            "No handles with labels found to put in legend.\n"
          ]
        },
        {
          "data": {
            "image/png": "[encoded data removed]",
            "text/plain": [
              "<Figure size 432x288 with 1 Axes>"
            ]
          },
          "metadata": {
            "needs_background": "light"
          },
          "output_type": "display_data"
        }
      ],
      "source": [
        "imp = pd.Series(single_best_model.feature_importances_,index=['Pclass', 'Age', 'Sibsp', 'Parch', 'Fare', 'Embarked', 'Title', 'isMale', 'isFemale', 'Family', 'isSingle']).sort_values(ascending=False)\n",
        "\n",
        "sns.barplot(x=imp, y=imp.index)\n",
        "plt.xlabel('Feature Importance Score')\n",
        "plt.ylabel('Features')\n",
        "plt.title(\"Visualizing Important Features\")\n",
        "plt.legend()\n",
        "plt.show()"
      ]
    },
    {
      "cell_type": "markdown",
      "metadata": {},
      "source": [
        "## Eliminate the least two important features"
      ]
    },
    {
      "cell_type": "code",
      "execution_count": null,
      "metadata": {},
      "outputs": [
        {
          "name": "stderr",
          "output_type": "stream",
          "text": [
            "[Parallel(n_jobs=-1)]: Using backend ThreadingBackend with 8 concurrent workers.\n",
            "[Parallel(n_jobs=-1)]: Done  34 tasks      | elapsed:    0.0s\n",
            "[Parallel(n_jobs=-1)]: Done 184 tasks      | elapsed:    0.2s\n",
            "[Parallel(n_jobs=-1)]: Done 434 tasks      | elapsed:    0.5s\n",
            "[Parallel(n_jobs=-1)]: Done 784 tasks      | elapsed:    1.1s\n",
            "[Parallel(n_jobs=-1)]: Done 1100 out of 1100 | elapsed:    1.6s finished\n",
            "[Parallel(n_jobs=8)]: Using backend ThreadingBackend with 8 concurrent workers.\n",
            "[Parallel(n_jobs=8)]: Done  34 tasks      | elapsed:    0.0s\n",
            "[Parallel(n_jobs=8)]: Done 184 tasks      | elapsed:    0.0s\n",
            "[Parallel(n_jobs=8)]: Done 434 tasks      | elapsed:    0.0s\n",
            "[Parallel(n_jobs=8)]: Done 784 tasks      | elapsed:    0.0s\n"
          ]
        },
        {
          "name": "stdout",
          "output_type": "stream",
          "text": [
            "Accuracy: 0.8208955223880597\n"
          ]
        },
        {
          "name": "stderr",
          "output_type": "stream",
          "text": [
            "[Parallel(n_jobs=8)]: Done 1100 out of 1100 | elapsed:    0.1s finished\n"
          ]
        }
      ],
      "source": [
        "X2 = train_data.drop(['Survived', 'Parch', 'isSingle'], axis=1)\n",
        "X_train2, X_val2, y_train2, y_val2 = train_test_split(X2, y, shuffle=True, test_size=0.15)\n",
        "\n",
        "single_best_model.fit(X_train2, y_train2)\n",
        "y_pred2=single_best_model.predict(X_val2)\n",
        "print(\"Accuracy:\", sklearn.metrics.accuracy_score(y_val2, y_pred2))"
      ]
    },
    {
      "cell_type": "code",
      "execution_count": null,
      "metadata": {},
      "outputs": [
        {
          "name": "stderr",
          "output_type": "stream",
          "text": [
            "[Parallel(n_jobs=8)]: Using backend ThreadingBackend with 8 concurrent workers.\n",
            "[Parallel(n_jobs=8)]: Done  34 tasks      | elapsed:    0.0s\n",
            "[Parallel(n_jobs=8)]: Done 184 tasks      | elapsed:    0.0s\n",
            "[Parallel(n_jobs=8)]: Done 434 tasks      | elapsed:    0.1s\n",
            "[Parallel(n_jobs=8)]: Done 784 tasks      | elapsed:    0.3s\n",
            "[Parallel(n_jobs=8)]: Done 1100 out of 1100 | elapsed:    0.4s finished\n"
          ]
        }
      ],
      "source": [
        "from sklearn.ensemble import VotingClassifier\r\n",
        "Y_train = train_data[\"Survived\"]\r\n",
        "X_train = train_data.drop(labels = [\"Survived\"],axis = 1)\r\n",
        "votingC = VotingClassifier(estimators=[('gbc', gbcclf),\r\n",
        " ('adac',ada_best),('svc', svmclf),('rf',single_best_model)], voting='soft', n_jobs=4)\r\n",
        "\r\n",
        "votingC = votingC.fit(X_train, Y_train)\r\n",
        "\r\n",
        "test_Survived = pd.Series(votingC.predict(test_data.drop(labels = [\"PassengerId\"],axis = 1)), name=\"Survived\")\r\n",
        "\r\n",
        "results = pd.concat([test_data[\"PassengerId\"],test_Survived],axis=1)\r\n",
        "\r\n",
        "results.to_csv(\"ensemble_python_voting.csv\",index=False)"
      ]
    }
  ],
  "metadata": {
    "colab": {
      "name": "main.ipynb",
      "provenance": []
    },
    "interpreter": {
      "hash": "6c202f4e302d86457b8dbf3f6cd377648c658e26322dda529640f73face61c2e"
    },
    "kernelspec": {
      "display_name": "Python 3.8.5 64-bit ('base': conda)",
      "name": "python3"
    },
    "language_info": {
      "codemirror_mode": {
        "name": "ipython",
        "version": 3
      },
      "file_extension": ".py",
      "mimetype": "text/x-python",
      "name": "python",
      "nbconvert_exporter": "python",
      "pygments_lexer": "ipython3",
      "version": "3.8.5"
    },
    "orig_nbformat": 4
  },
  "nbformat": 4,
  "nbformat_minor": 0
}