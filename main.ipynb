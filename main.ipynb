{
  "cells": [
    {
      "cell_type": "code",
      "execution_count": 2,
      "metadata": {
        "id": "ti-1nCJQzPKq"
      },
      "outputs": [],
      "source": [
        "import pandas as pd\n",
        "import numpy as np\n",
        "import random as rnd\n",
        "import seaborn as sns\n",
        "import matplotlib.pyplot as plt\n",
        "%matplotlib inline\n",
        "import warnings\n",
        "warnings.filterwarnings('ignore')"
      ]
    },
    {
      "cell_type": "code",
      "execution_count": 3,
      "metadata": {
        "id": "XLCDQSGAzPKr"
      },
      "outputs": [],
      "source": [
        "train_data = pd.read_csv('./data/train.csv')\n",
        "test_data = pd.read_csv('./data/test.csv')"
      ]
    },
    {
      "cell_type": "code",
      "execution_count": 4,
      "metadata": {
        "id": "XMQBy0RrzPKs",
        "outputId": "f3cabd2f-567d-478c-f90c-0f7ad9ab3ecd"
      },
      "outputs": [
        {
          "name": "stdout",
          "output_type": "stream",
          "text": [
            "['PassengerId' 'Survived' 'Pclass' 'Name' 'Sex' 'Age' 'SibSp' 'Parch'\n",
            " 'Ticket' 'Fare' 'Cabin' 'Embarked']\n"
          ]
        },
        {
          "data": {
            "text/html": [
              "<div>\n",
              "<style scoped>\n",
              "    .dataframe tbody tr th:only-of-type {\n",
              "        vertical-align: middle;\n",
              "    }\n",
              "\n",
              "    .dataframe tbody tr th {\n",
              "        vertical-align: top;\n",
              "    }\n",
              "\n",
              "    .dataframe thead th {\n",
              "        text-align: right;\n",
              "    }\n",
              "</style>\n",
              "<table border=\"1\" class=\"dataframe\">\n",
              "  <thead>\n",
              "    <tr style=\"text-align: right;\">\n",
              "      <th></th>\n",
              "      <th>Name</th>\n",
              "      <th>Sex</th>\n",
              "      <th>Ticket</th>\n",
              "      <th>Cabin</th>\n",
              "      <th>Embarked</th>\n",
              "    </tr>\n",
              "  </thead>\n",
              "  <tbody>\n",
              "    <tr>\n",
              "      <th>count</th>\n",
              "      <td>891</td>\n",
              "      <td>891</td>\n",
              "      <td>891</td>\n",
              "      <td>204</td>\n",
              "      <td>889</td>\n",
              "    </tr>\n",
              "    <tr>\n",
              "      <th>unique</th>\n",
              "      <td>891</td>\n",
              "      <td>2</td>\n",
              "      <td>681</td>\n",
              "      <td>147</td>\n",
              "      <td>3</td>\n",
              "    </tr>\n",
              "    <tr>\n",
              "      <th>top</th>\n",
              "      <td>Jussila, Mr. Eiriik</td>\n",
              "      <td>male</td>\n",
              "      <td>1601</td>\n",
              "      <td>B96 B98</td>\n",
              "      <td>S</td>\n",
              "    </tr>\n",
              "    <tr>\n",
              "      <th>freq</th>\n",
              "      <td>1</td>\n",
              "      <td>577</td>\n",
              "      <td>7</td>\n",
              "      <td>4</td>\n",
              "      <td>644</td>\n",
              "    </tr>\n",
              "  </tbody>\n",
              "</table>\n",
              "</div>"
            ],
            "text/plain": [
              "                       Name   Sex Ticket    Cabin Embarked\n",
              "count                   891   891    891      204      889\n",
              "unique                  891     2    681      147        3\n",
              "top     Jussila, Mr. Eiriik  male   1601  B96 B98        S\n",
              "freq                      1   577      7        4      644"
            ]
          },
          "execution_count": 4,
          "metadata": {},
          "output_type": "execute_result"
        }
      ],
      "source": [
        "print(train_data.columns.values)\n",
        "train_data.describe()\n",
        "train_data.describe(include=['O'])"
      ]
    },
    {
      "cell_type": "code",
      "execution_count": 5,
      "metadata": {
        "id": "ZD7B3FqczPKu",
        "outputId": "76dab22a-5ec2-414d-a39d-7670b4981065"
      },
      "outputs": [
        {
          "data": {
            "text/plain": [
              "Text(0.5, 1.0, 'combine')"
            ]
          },
          "execution_count": 5,
          "metadata": {},
          "output_type": "execute_result"
        },
        {
          "data": {
            "image/png": "[encoded data removed]",
            "text/plain": [
              "<Figure size 1440x576 with 3 Axes>"
            ]
          },
          "metadata": {
            "needs_background": "light"
          },
          "output_type": "display_data"
        }
      ],
      "source": [
        "fig, axes = plt.subplots(nrows=1, ncols=3,figsize=(20, 8))\n",
        "ax = sns.distplot(train_data[train_data['Survived']==1].Age.dropna(), bins=18, label = 'survived', ax = axes[0], kde =False, color=\"green\")\n",
        "ax.legend()\n",
        "ax.set_title('survived')\n",
        "ax = sns.distplot(train_data[train_data['Survived']==0].Age.dropna(), bins=40, label = 'not_survived', ax = axes[1], kde = False, color=\"red\")\n",
        "ax.legend()\n",
        "ax.set_title('not survived')\n",
        "ax = sns.distplot(train_data[train_data['Survived']==1].Age.dropna(), bins=18, label = 'survived', ax = axes[2], kde =False, color=\"green\")\n",
        "ax = sns.distplot(train_data[train_data['Survived']==0].Age.dropna(), bins=40, label = 'not_survived', ax = axes[2], kde = False, color=\"red\")\n",
        "ax.set_title('combine')"
      ]
    },
    {
      "cell_type": "markdown",
      "metadata": {
        "id": "HDAoFsXTzPKv"
      },
      "source": [
        "1. Young passengers had high survival rate, and old passengers had low survival rate.\n",
        "2. Most passengers are in 15-35 age range, and many passengers in this range did not survive."
      ]
    },
    {
      "cell_type": "code",
      "execution_count": 6,
      "metadata": {
        "id": "C-kVNhmfzPKw",
        "outputId": "a4c2b234-a797-4c34-d798-df94876a72f4"
      },
      "outputs": [
        {
          "data": {
            "text/plain": [
              "<seaborn.axisgrid.FacetGrid at 0x220f3313cd0>"
            ]
          },
          "execution_count": 6,
          "metadata": {},
          "output_type": "execute_result"
        },
        {
          "data": {
            "image/png": "[encoded data removed]",
            "text/plain": [
              "<Figure size 900x360 with 1 Axes>"
            ]
          },
          "metadata": {
            "needs_background": "light"
          },
          "output_type": "display_data"
        }
      ],
      "source": [
        "sns.factorplot('Embarked','Survived', data=train_data, aspect = 2.5)"
      ]
    },
    {
      "cell_type": "markdown",
      "metadata": {
        "id": "DO3oHBifzPKx"
      },
      "source": [
        "Passengers from port ‘Southampton’ have a low survival rate of 34%, from the port ‘Cherbourg’ have a survival rate of 55%, from the port ‘Queenstown’ have a survival rate of 39%"
      ]
    },
    {
      "cell_type": "code",
      "execution_count": 7,
      "metadata": {
        "id": "3YUVxwqLzPKy"
      },
      "outputs": [],
      "source": [
        "\n",
        "train_data = train_data.drop('Ticket', axis=1)\n",
        "test_data = test_data.drop('Ticket', axis=1)"
      ]
    },
    {
      "cell_type": "markdown",
      "metadata": {
        "id": "ytnH1XYyzPK0"
      },
      "source": [
        "ticket number is random, so we drop this column"
      ]
    },
    {
      "cell_type": "code",
      "execution_count": 8,
      "metadata": {
        "id": "UnJDl2nqzPK1",
        "outputId": "4a174815-6c6b-43c3-f7d0-2782e8c6f432"
      },
      "outputs": [
        {
          "data": {
            "text/html": [
              "<div>\n",
              "<style scoped>\n",
              "    .dataframe tbody tr th:only-of-type {\n",
              "        vertical-align: middle;\n",
              "    }\n",
              "\n",
              "    .dataframe tbody tr th {\n",
              "        vertical-align: top;\n",
              "    }\n",
              "\n",
              "    .dataframe thead th {\n",
              "        text-align: right;\n",
              "    }\n",
              "</style>\n",
              "<table border=\"1\" class=\"dataframe\">\n",
              "  <thead>\n",
              "    <tr style=\"text-align: right;\">\n",
              "      <th></th>\n",
              "      <th>Title</th>\n",
              "      <th>Survived</th>\n",
              "    </tr>\n",
              "  </thead>\n",
              "  <tbody>\n",
              "    <tr>\n",
              "      <th>0</th>\n",
              "      <td>Master</td>\n",
              "      <td>0.575000</td>\n",
              "    </tr>\n",
              "    <tr>\n",
              "      <th>1</th>\n",
              "      <td>Miss</td>\n",
              "      <td>0.702703</td>\n",
              "    </tr>\n",
              "    <tr>\n",
              "      <th>2</th>\n",
              "      <td>Mr</td>\n",
              "      <td>0.156673</td>\n",
              "    </tr>\n",
              "    <tr>\n",
              "      <th>3</th>\n",
              "      <td>Mrs</td>\n",
              "      <td>0.793651</td>\n",
              "    </tr>\n",
              "    <tr>\n",
              "      <th>4</th>\n",
              "      <td>Rare</td>\n",
              "      <td>0.347826</td>\n",
              "    </tr>\n",
              "  </tbody>\n",
              "</table>\n",
              "</div>"
            ],
            "text/plain": [
              "    Title  Survived\n",
              "0  Master  0.575000\n",
              "1    Miss  0.702703\n",
              "2      Mr  0.156673\n",
              "3     Mrs  0.793651\n",
              "4    Rare  0.347826"
            ]
          },
          "execution_count": 8,
          "metadata": {},
          "output_type": "execute_result"
        }
      ],
      "source": [
        "combine = [train_data, test_data]\n",
        "for dataset in combine:\n",
        "    dataset['Title'] = dataset.Name.str.extract(' ([A-Za-z]+)\\.', expand=False)\n",
        "    dataset['Title'] = dataset['Title'].replace(['Lady', 'Countess','Capt', 'Col', 'Don', 'Dr', 'Major', 'Rev', 'Sir','Jonkheer', 'Dona'], 'Rare')\n",
        "    dataset['Title'] = dataset['Title'].replace('Mlle', 'Miss')\n",
        "    dataset['Title'] = dataset['Title'].replace('Ms', 'Miss')\n",
        "    dataset['Title'] = dataset['Title'].replace('Mme', 'Mrs')\n",
        "train_data[['Title', 'Survived']].groupby(['Title'], as_index=False).mean()"
      ]
    },
    {
      "cell_type": "markdown",
      "metadata": {
        "id": "RppBG65yzPK3"
      },
      "source": [
        "Certain titles mostly survived or did not"
      ]
    },
    {
      "cell_type": "code",
      "execution_count": 9,
      "metadata": {
        "id": "gLy8PKEc0fcQ"
      },
      "outputs": [],
      "source": [
        "title_mapping = {\"Mr\": 1, \"Miss\": 2, \"Mrs\": 3, \"Master\": 4, \"Rare\": 5}\n",
        "for dataset in combine:\n",
        "    dataset['Title'] = dataset['Title'].map(title_mapping)\n",
        "    dataset['Title'] = dataset['Title'].fillna(0)"
      ]
    },
    {
      "cell_type": "code",
      "execution_count": 10,
      "metadata": {
        "id": "qwGFOftozPK5",
        "outputId": "a53774cf-c805-4e7f-c0cf-db0e81317d1d"
      },
      "outputs": [
        {
          "name": "stdout",
          "output_type": "stream",
          "text": [
            "Survival Correlation by: Sex\n",
            "      Sex  Survived\n",
            "0  female  0.742038\n",
            "1    male  0.188908\n",
            "---------- \n",
            "\n",
            "Survival Correlation by: Pclass\n",
            "   Pclass  Survived\n",
            "0       1  0.629630\n",
            "1       2  0.472826\n",
            "2       3  0.242363\n",
            "---------- \n",
            "\n",
            "Survival Correlation by: Embarked\n",
            "  Embarked  Survived\n",
            "0        C  0.553571\n",
            "1        Q  0.389610\n",
            "2        S  0.336957\n",
            "---------- \n",
            "\n",
            "Survival Correlation by: SibSp\n",
            "   SibSp  Survived\n",
            "0      0  0.345395\n",
            "1      1  0.535885\n",
            "2      2  0.464286\n",
            "3      3  0.250000\n",
            "4      4  0.166667\n",
            "5      5  0.000000\n",
            "6      8  0.000000\n",
            "---------- \n",
            "\n",
            "Survival Correlation by: Parch\n",
            "   Parch  Survived\n",
            "0      0  0.343658\n",
            "1      1  0.550847\n",
            "2      2  0.500000\n",
            "3      3  0.600000\n",
            "4      4  0.000000\n",
            "5      5  0.200000\n",
            "6      6  0.000000\n",
            "---------- \n",
            "\n"
          ]
        },
        {
          "data": {
            "image/png": "[encoded data removed]",
            "text/plain": [
              "<Figure size 1584x648 with 1 Axes>"
            ]
          },
          "metadata": {
            "needs_background": "light"
          },
          "output_type": "display_data"
        },
        {
          "data": {
            "image/png": "[encoded data removed]",
            "text/plain": [
              "<Figure size 1008x864 with 2 Axes>"
            ]
          },
          "metadata": {
            "needs_background": "light"
          },
          "output_type": "display_data"
        }
      ],
      "source": [
        "#print(train_data.info)\n",
        "#print(train_data.isnull().sum())\n",
        "#print(test_data.isnull().sum())\n",
        "#train_data.describe(include='all')\n",
        "\n",
        "#Common Model Algorithms\n",
        "from sklearn import svm, tree, linear_model, neighbors, naive_bayes, ensemble, discriminant_analysis, gaussian_process\n",
        "#from xgboost import XGBClassifier\n",
        "\n",
        "#Common Model Helpers\n",
        "from sklearn.preprocessing import OneHotEncoder, LabelEncoder\n",
        "from sklearn import feature_selection\n",
        "from sklearn import model_selection\n",
        "from sklearn import metrics\n",
        "\n",
        "#Visualization\n",
        "import matplotlib as mpl\n",
        "import matplotlib.pyplot as plt\n",
        "import matplotlib.pylab as pylab\n",
        "import seaborn as sns\n",
        "#from pandas.tools.plotting import scatter_matrix\n",
        "\n",
        "data_raw = pd.read_csv('./data/train.csv')\n",
        "data_val  = pd.read_csv('./data/test.csv')\n",
        "\n",
        "data1 = data_raw.copy(deep = True)\n",
        "data_cleaner = [data1, data_val]\n",
        "\n",
        "Target = ['Survived']\n",
        "#pclass, sibsp, fare\n",
        "data1_x = ['Sex', 'Pclass', 'Embarked', 'SibSp', 'Parch', 'Age', 'Fare']\n",
        "for x in data1_x:\n",
        "    if data1[x].dtype != 'float64':\n",
        "        print('Survival Correlation by:', x)\n",
        "        print(data1[[x, 'Survived']].groupby(x, as_index=False).mean())\n",
        "        print('-'*10, '\\n')\n",
        "        \n",
        "        \n",
        "data1['Fare'] = pd.qcut(data1['Fare'], 13)\n",
        "\n",
        "fig, axs = plt.subplots(figsize=(22, 9))\n",
        "sns.countplot(x='Fare', hue='Survived', data=data1)\n",
        "\n",
        "plt.xlabel('Fare', size=15, labelpad=20)\n",
        "plt.ylabel('Passenger Count', size=15, labelpad=20)\n",
        "plt.tick_params(axis='x', labelsize=10)\n",
        "plt.tick_params(axis='y', labelsize=15)\n",
        "\n",
        "plt.legend(['Not Survived', 'Survived'], loc='upper right', prop={'size': 15})\n",
        "plt.title('Count of Survival in {} Feature'.format('Fare'), size=15, y=1.05)\n",
        "\n",
        "plt.show()\n",
        "\n",
        "\n",
        "#correlation heatmap of dataset\n",
        "def correlation_heatmap(df):\n",
        "    _ , ax = plt.subplots(figsize =(14, 12))\n",
        "    colormap = sns.diverging_palette(220, 10, as_cmap = True)\n",
        "    \n",
        "    _ = sns.heatmap(\n",
        "        df.corr(), \n",
        "        cmap = colormap,\n",
        "        square=True, \n",
        "        cbar_kws={'shrink':.9 }, \n",
        "        ax=ax,\n",
        "        annot=True, \n",
        "        linewidths=0.1,vmax=1.0, linecolor='white',\n",
        "        annot_kws={'fontsize':12 }\n",
        "    )\n",
        "    \n",
        "    plt.title('Pearson Correlation of Features', y=1.05, size=15)\n",
        "\n",
        "correlation_heatmap(data1)"
      ]
    },
    {
      "cell_type": "markdown",
      "metadata": {
        "id": "hA2vTeEn_dGt"
      },
      "source": [
        "# Cabin"
      ]
    },
    {
      "cell_type": "code",
      "execution_count": 11,
      "metadata": {
        "colab": {
          "base_uri": "https://localhost:8080/"
        },
        "id": "YKzrYjdYxKru",
        "outputId": "b705db23-19f7-4427-d7f3-5f6f63d90e93"
      },
      "outputs": [
        {
          "name": "stdout",
          "output_type": "stream",
          "text": [
            "0.7710437710437711\n",
            "0.22895622895622897\n",
            "687\n",
            "891\n"
          ]
        }
      ],
      "source": [
        "cabinisnull = train_data['Cabin'].isnull().sum()\n",
        "cabinnotnull = train_data['Cabin'].count()\n",
        "totalnum = train_data['PassengerId'].count()\n",
        "print(cabinisnull/totalnum)\n",
        "print(cabinnotnull/totalnum)\n",
        "print(cabinisnull)\n",
        "print(totalnum)"
      ]
    },
    {
      "cell_type": "code",
      "execution_count": 12,
      "metadata": {
        "id": "PftLX3Zd2Jo1"
      },
      "outputs": [],
      "source": [
        "train_data = train_data.drop(['Cabin'], axis=1)\n",
        "test_data = test_data.drop(['Cabin'], axis=1)"
      ]
    },
    {
      "cell_type": "markdown",
      "metadata": {
        "id": "fWbsKVex_JKn"
      },
      "source": [
        "The Cabin data has too much null (687 out of 891 rows, about 77%) that it might not be good feature. However, it can help craft other features.  "
      ]
    },
    {
      "cell_type": "code",
      "execution_count": 13,
      "metadata": {
        "id": "HdK8CvCa0fca",
        "outputId": "d3d78e5d-71c5-4943-f794-96c2401dbb8b"
      },
      "outputs": [
        {
          "data": {
            "text/html": [
              "<div>\n",
              "<style scoped>\n",
              "    .dataframe tbody tr th:only-of-type {\n",
              "        vertical-align: middle;\n",
              "    }\n",
              "\n",
              "    .dataframe tbody tr th {\n",
              "        vertical-align: top;\n",
              "    }\n",
              "\n",
              "    .dataframe thead th {\n",
              "        text-align: right;\n",
              "    }\n",
              "</style>\n",
              "<table border=\"1\" class=\"dataframe\">\n",
              "  <thead>\n",
              "    <tr style=\"text-align: right;\">\n",
              "      <th></th>\n",
              "      <th>Survived</th>\n",
              "      <th>Pclass</th>\n",
              "      <th>Sex</th>\n",
              "      <th>Age</th>\n",
              "      <th>SibSp</th>\n",
              "      <th>Parch</th>\n",
              "      <th>Fare</th>\n",
              "      <th>Embarked</th>\n",
              "      <th>Title</th>\n",
              "    </tr>\n",
              "  </thead>\n",
              "  <tbody>\n",
              "    <tr>\n",
              "      <th>0</th>\n",
              "      <td>0</td>\n",
              "      <td>3</td>\n",
              "      <td>male</td>\n",
              "      <td>22.0</td>\n",
              "      <td>1</td>\n",
              "      <td>0</td>\n",
              "      <td>7.2500</td>\n",
              "      <td>S</td>\n",
              "      <td>1</td>\n",
              "    </tr>\n",
              "    <tr>\n",
              "      <th>1</th>\n",
              "      <td>1</td>\n",
              "      <td>1</td>\n",
              "      <td>female</td>\n",
              "      <td>38.0</td>\n",
              "      <td>1</td>\n",
              "      <td>0</td>\n",
              "      <td>71.2833</td>\n",
              "      <td>C</td>\n",
              "      <td>3</td>\n",
              "    </tr>\n",
              "    <tr>\n",
              "      <th>2</th>\n",
              "      <td>1</td>\n",
              "      <td>3</td>\n",
              "      <td>female</td>\n",
              "      <td>26.0</td>\n",
              "      <td>0</td>\n",
              "      <td>0</td>\n",
              "      <td>7.9250</td>\n",
              "      <td>S</td>\n",
              "      <td>2</td>\n",
              "    </tr>\n",
              "    <tr>\n",
              "      <th>3</th>\n",
              "      <td>1</td>\n",
              "      <td>1</td>\n",
              "      <td>female</td>\n",
              "      <td>35.0</td>\n",
              "      <td>1</td>\n",
              "      <td>0</td>\n",
              "      <td>53.1000</td>\n",
              "      <td>S</td>\n",
              "      <td>3</td>\n",
              "    </tr>\n",
              "    <tr>\n",
              "      <th>4</th>\n",
              "      <td>0</td>\n",
              "      <td>3</td>\n",
              "      <td>male</td>\n",
              "      <td>35.0</td>\n",
              "      <td>0</td>\n",
              "      <td>0</td>\n",
              "      <td>8.0500</td>\n",
              "      <td>S</td>\n",
              "      <td>1</td>\n",
              "    </tr>\n",
              "  </tbody>\n",
              "</table>\n",
              "</div>"
            ],
            "text/plain": [
              "   Survived  Pclass     Sex   Age  SibSp  Parch     Fare Embarked  Title\n",
              "0         0       3    male  22.0      1      0   7.2500        S      1\n",
              "1         1       1  female  38.0      1      0  71.2833        C      3\n",
              "2         1       3  female  26.0      0      0   7.9250        S      2\n",
              "3         1       1  female  35.0      1      0  53.1000        S      3\n",
              "4         0       3    male  35.0      0      0   8.0500        S      1"
            ]
          },
          "execution_count": 13,
          "metadata": {},
          "output_type": "execute_result"
        }
      ],
      "source": [
        "title_mapping = {\"Mr\": 1, \"Miss\": 2, \"Mrs\": 3, \"Master\": 4, \"Rare\": 5}\n",
        "for dataset in combine:\n",
        "    dataset['Title'] = dataset['Title'].map(title_mapping)\n",
        "    dataset['Title'] = dataset['Title'].fillna(0)\n",
        "train_data = train_data.drop(['Name', 'PassengerId'], axis=1)\n",
        "test_data = test_data.drop(['Name'], axis=1)\n",
        "train_data.head()"
      ]
    },
    {
      "cell_type": "markdown",
      "metadata": {
        "id": "1xCxcqsP0fca"
      },
      "source": [
        "We can drop name and passengerID"
      ]
    },
    {
      "cell_type": "markdown",
      "metadata": {
        "id": "Pq_9Kies_vCF"
      },
      "source": [
        "# Sex"
      ]
    },
    {
      "cell_type": "code",
      "execution_count": 14,
      "metadata": {
        "id": "yyEPiKdF5BRh"
      },
      "outputs": [],
      "source": [
        "train_data['isMale'] = 1\n",
        "train_data['isMale'].loc[train_data['Sex']=='female'] = 0\n",
        "train_data['isFemale'] = 1\n",
        "train_data['isFemale'].loc[train_data['Sex']=='male'] = 0"
      ]
    },
    {
      "cell_type": "code",
      "execution_count": 15,
      "metadata": {
        "colab": {
          "base_uri": "https://localhost:8080/"
        },
        "id": "i9GA5Jlnn4Zg",
        "outputId": "1ce86fe2-6cbc-4ff6-c858-d3c5b49577bb"
      },
      "outputs": [
        {
          "name": "stdout",
          "output_type": "stream",
          "text": [
            "109\n",
            "577\n",
            "0.18890814558058924\n",
            "233\n",
            "314\n",
            "0.7420382165605095\n"
          ]
        }
      ],
      "source": [
        "male = train_data.loc[train_data.Sex == 'male']['Survived']\n",
        "female = train_data.loc[train_data.Sex == 'female']['Survived']\n",
        "malesurrate = sum(male)/len(male)\n",
        "femalesurrate = sum(female)/len(female)\n",
        "print(sum(male))\n",
        "print(len(male))\n",
        "print(malesurrate)\n",
        "print(sum(female))\n",
        "print(len(female))\n",
        "print(femalesurrate)"
      ]
    },
    {
      "cell_type": "markdown",
      "metadata": {
        "id": "EEcnUUUZ_51J"
      },
      "source": [
        "Sex has high correlation (+-0.543) with survival in the training data set, which means gender may be a strong factor alone.  \n",
        "Women have survival rate 0.7420382165605095, while men have much lower survival rate  0.18890814558058924  \n",
        "\n",
        "\n",
        "| Gender\\Number | Total | Survived | Survival Rate |\n",
        "| ------------- | ----- | -------- | ------------- |\n",
        "|     Women          |314|233|74.20%|\n",
        "| Men         | 577  | 109     |18.89%|"
      ]
    },
    {
      "cell_type": "markdown",
      "metadata": {
        "id": "dWvRV5JTAMAw"
      },
      "source": [
        "# Parch"
      ]
    },
    {
      "cell_type": "code",
      "execution_count": 16,
      "metadata": {
        "id": "QLhYmgF2A9pP"
      },
      "outputs": [],
      "source": [
        "train_data.value_counts(['Parch'])\n",
        "parchsur = list()\n",
        "parchstat = list()\n",
        "for i in range(0,7):\n",
        "  parchsur.append(train_data.loc[train_data.Parch == i]['Survived'])\n",
        "  parchstat.append((sum(parchsur[i]), len(parchsur[i])))"
      ]
    },
    {
      "cell_type": "code",
      "execution_count": 17,
      "metadata": {
        "colab": {
          "base_uri": "https://localhost:8080/",
          "height": 283
        },
        "id": "_rjjWxr0DZRS",
        "outputId": "77fc459e-6664-4919-db7f-fe965fdf7829"
      },
      "outputs": [
        {
          "data": {
            "image/png": "[encoded data removed]",
            "text/plain": [
              "<Figure size 432x288 with 2 Axes>"
            ]
          },
          "metadata": {
            "needs_background": "light"
          },
          "output_type": "display_data"
        }
      ],
      "source": [
        "import matplotlib.pyplot as plt\n",
        "fig = plt.figure()        \n",
        "host =  fig.add_subplot(111) \n",
        "par2 = host.twinx()\n",
        "x = (0,1,2,3,4,5,6)\n",
        "y = [x[0] for x in parchstat] \n",
        "y2 = [x[1] for x in parchstat] \n",
        "yy = [x[0]/x[1] for x in parchstat]\n",
        "host.bar(x,y2,align='center',label='total count')\n",
        "host.bar(x,y,align='center',label='survived count') \n",
        "par2.plot(x, yy, linewidth=2, marker='o', color = 'black', label='survival rate')\n",
        "host.legend(loc = 'upper right')\n",
        "par2.set_ylim(0,1)\n",
        "host.set_ylabel(\"count\")\n",
        "par2.set_ylabel(\"Survival Rate\")\n",
        "host.set_xlabel('Number of Parents/Children')\n",
        "plt.show()"
      ]
    },
    {
      "cell_type": "markdown",
      "metadata": {
        "id": "8D8UYfh1AWNS"
      },
      "source": [
        "Parch describe number of one's parents/children, range from 0 to 6.  \n",
        "The relation to the survival rate shown in the plot.  \n",
        "detail:\n",
        "\n",
        "\n",
        "| Parch         | 0     | 1     | 2     | 3     | 4    | 5     | 6    |\n",
        "| ------------- | ----- | ----- | ----- | ----- | ---- | ----- | ---- |\n",
        "| Total         | 678   | 118   | 80    | 5     | 4    | 5     | 1    |\n",
        "| Survived      | 233   | 65    | 40    | 3     | 0    | 1     | 0    |\n",
        "| Survival Rate | 34.3% | 55.0% | 50.0% | 60.0% | 0.0% | 20.0% | 0.0% |"
      ]
    },
    {
      "cell_type": "markdown",
      "metadata": {
        "id": "X9lD77DvAfoP"
      },
      "source": [
        "# Family&Single  \n",
        "Family is simply Parch+Sibsp, and isSingle is family=0."
      ]
    },
    {
      "cell_type": "code",
      "execution_count": 18,
      "metadata": {
        "colab": {
          "base_uri": "https://localhost:8080/"
        },
        "id": "qvzCv_hCVQul",
        "outputId": "889ad78c-8aa7-4b9e-a8f7-210f1cfa325a"
      },
      "outputs": [
        {
          "data": {
            "text/plain": [
              "Family\n",
              "0         537\n",
              "1         161\n",
              "2         102\n",
              "3          29\n",
              "5          22\n",
              "4          15\n",
              "6          12\n",
              "10          7\n",
              "7           6\n",
              "dtype: int64"
            ]
          },
          "execution_count": 18,
          "metadata": {},
          "output_type": "execute_result"
        }
      ],
      "source": [
        "train_data['Family']=0\n",
        "train_data['Family']=train_data.Parch + train_data.SibSp\n",
        "train_data['isSingle']=0\n",
        "train_data['isSingle'].loc[train_data.Family==0] = 1\n",
        "train_data.value_counts(['Family'])"
      ]
    },
    {
      "cell_type": "code",
      "execution_count": 19,
      "metadata": {
        "id": "jr8xeNdmXV9O",
        "outputId": "027f9f8e-9f33-426d-ed95-987ec8e595bc"
      },
      "outputs": [
        {
          "name": "stdout",
          "output_type": "stream",
          "text": [
            "[537, 161, 102, 29, 15, 22, 12, 6, 0, 0, 7]\n"
          ]
        }
      ],
      "source": [
        "train_data.value_counts(['Family'])\n",
        "Fsur = list()\n",
        "Fstat = list()\n",
        "for i in range(0,11):\n",
        "  Fsur.append(train_data.loc[train_data.Family == i]['Survived'])\n",
        "  Fstat.append((sum(Fsur[i]), len(Fsur[i])))\n",
        "print([x[1] for x in Fstat] )"
      ]
    },
    {
      "cell_type": "code",
      "execution_count": 20,
      "metadata": {
        "colab": {
          "base_uri": "https://localhost:8080/",
          "height": 283
        },
        "id": "r8hdEcq6YETp",
        "outputId": "f19cef7f-7bb0-47cf-ea62-d3e53dbd9879"
      },
      "outputs": [
        {
          "data": {
            "image/png": "[encoded data removed]",
            "text/plain": [
              "<Figure size 432x288 with 2 Axes>"
            ]
          },
          "metadata": {
            "needs_background": "light"
          },
          "output_type": "display_data"
        }
      ],
      "source": [
        "import matplotlib.pyplot as plt\n",
        "fig = plt.figure()        \n",
        "host =  fig.add_subplot(111) \n",
        "par2 = host.twinx()\n",
        "x = (0,1,2,3,4,5,6,7,8,9,10)\n",
        "y = [x[0] for x in Fstat] \n",
        "y2 = [x[1] for x in Fstat] \n",
        "yy = list()\n",
        "for ii in Fstat:\n",
        "  if ii[0]!=0:\n",
        "    yy.append(ii[0]/ii[1])\n",
        "  else:\n",
        "    yy.append(0)\n",
        "host.bar(x,y2,align='center',label='total count')\n",
        "host.bar(x,y,align='center',label='survived count') \n",
        "par2.plot(x, yy, linewidth=2, marker='o', color = 'black', label='survival rate')\n",
        "host.legend(loc = 'upper right')\n",
        "par2.set_ylim(0,1)\n",
        "host.set_ylabel(\"count\")\n",
        "par2.set_ylabel(\"Survival Rate\")\n",
        "host.set_xlabel('Number of Parents/Children')\n",
        "plt.show()"
      ]
    },
    {
      "cell_type": "code",
      "execution_count": 21,
      "metadata": {
        "colab": {
          "base_uri": "https://localhost:8080/",
          "height": 377
        },
        "id": "nSD7yTUNWWon",
        "outputId": "2c442370-ca8c-4c74-9a9b-e5945e2c0abb"
      },
      "outputs": [
        {
          "data": {
            "text/html": [
              "<div>\n",
              "<style scoped>\n",
              "    .dataframe tbody tr th:only-of-type {\n",
              "        vertical-align: middle;\n",
              "    }\n",
              "\n",
              "    .dataframe tbody tr th {\n",
              "        vertical-align: top;\n",
              "    }\n",
              "\n",
              "    .dataframe thead th {\n",
              "        text-align: right;\n",
              "    }\n",
              "</style>\n",
              "<table border=\"1\" class=\"dataframe\">\n",
              "  <thead>\n",
              "    <tr style=\"text-align: right;\">\n",
              "      <th></th>\n",
              "      <th>Survived</th>\n",
              "      <th>Pclass</th>\n",
              "      <th>Age</th>\n",
              "      <th>SibSp</th>\n",
              "      <th>Parch</th>\n",
              "      <th>Fare</th>\n",
              "      <th>Title</th>\n",
              "      <th>isMale</th>\n",
              "      <th>isFemale</th>\n",
              "      <th>Family</th>\n",
              "      <th>isSingle</th>\n",
              "    </tr>\n",
              "  </thead>\n",
              "  <tbody>\n",
              "    <tr>\n",
              "      <th>Survived</th>\n",
              "      <td>1.000000</td>\n",
              "      <td>-0.338481</td>\n",
              "      <td>-0.077221</td>\n",
              "      <td>-0.035322</td>\n",
              "      <td>0.081629</td>\n",
              "      <td>0.257307</td>\n",
              "      <td>0.407753</td>\n",
              "      <td>-0.543351</td>\n",
              "      <td>0.543351</td>\n",
              "      <td>0.016639</td>\n",
              "      <td>-0.203367</td>\n",
              "    </tr>\n",
              "    <tr>\n",
              "      <th>Pclass</th>\n",
              "      <td>-0.338481</td>\n",
              "      <td>1.000000</td>\n",
              "      <td>-0.369226</td>\n",
              "      <td>0.083081</td>\n",
              "      <td>0.018443</td>\n",
              "      <td>-0.549500</td>\n",
              "      <td>-0.173929</td>\n",
              "      <td>0.131900</td>\n",
              "      <td>-0.131900</td>\n",
              "      <td>0.065997</td>\n",
              "      <td>0.135207</td>\n",
              "    </tr>\n",
              "    <tr>\n",
              "      <th>Age</th>\n",
              "      <td>-0.077221</td>\n",
              "      <td>-0.369226</td>\n",
              "      <td>1.000000</td>\n",
              "      <td>-0.308247</td>\n",
              "      <td>-0.189119</td>\n",
              "      <td>0.096067</td>\n",
              "      <td>-0.104766</td>\n",
              "      <td>0.093254</td>\n",
              "      <td>-0.093254</td>\n",
              "      <td>-0.301914</td>\n",
              "      <td>0.198270</td>\n",
              "    </tr>\n",
              "    <tr>\n",
              "      <th>SibSp</th>\n",
              "      <td>-0.035322</td>\n",
              "      <td>0.083081</td>\n",
              "      <td>-0.308247</td>\n",
              "      <td>1.000000</td>\n",
              "      <td>0.414838</td>\n",
              "      <td>0.159651</td>\n",
              "      <td>0.269623</td>\n",
              "      <td>-0.114631</td>\n",
              "      <td>0.114631</td>\n",
              "      <td>0.890712</td>\n",
              "      <td>-0.584471</td>\n",
              "    </tr>\n",
              "    <tr>\n",
              "      <th>Parch</th>\n",
              "      <td>0.081629</td>\n",
              "      <td>0.018443</td>\n",
              "      <td>-0.189119</td>\n",
              "      <td>0.414838</td>\n",
              "      <td>1.000000</td>\n",
              "      <td>0.216225</td>\n",
              "      <td>0.315784</td>\n",
              "      <td>-0.245489</td>\n",
              "      <td>0.245489</td>\n",
              "      <td>0.783111</td>\n",
              "      <td>-0.583398</td>\n",
              "    </tr>\n",
              "    <tr>\n",
              "      <th>Fare</th>\n",
              "      <td>0.257307</td>\n",
              "      <td>-0.549500</td>\n",
              "      <td>0.096067</td>\n",
              "      <td>0.159651</td>\n",
              "      <td>0.216225</td>\n",
              "      <td>1.000000</td>\n",
              "      <td>0.136310</td>\n",
              "      <td>-0.182333</td>\n",
              "      <td>0.182333</td>\n",
              "      <td>0.217138</td>\n",
              "      <td>-0.271832</td>\n",
              "    </tr>\n",
              "    <tr>\n",
              "      <th>Title</th>\n",
              "      <td>0.407753</td>\n",
              "      <td>-0.173929</td>\n",
              "      <td>-0.104766</td>\n",
              "      <td>0.269623</td>\n",
              "      <td>0.315784</td>\n",
              "      <td>0.136310</td>\n",
              "      <td>1.000000</td>\n",
              "      <td>-0.502713</td>\n",
              "      <td>0.502713</td>\n",
              "      <td>0.342039</td>\n",
              "      <td>-0.405813</td>\n",
              "    </tr>\n",
              "    <tr>\n",
              "      <th>isMale</th>\n",
              "      <td>-0.543351</td>\n",
              "      <td>0.131900</td>\n",
              "      <td>0.093254</td>\n",
              "      <td>-0.114631</td>\n",
              "      <td>-0.245489</td>\n",
              "      <td>-0.182333</td>\n",
              "      <td>-0.502713</td>\n",
              "      <td>1.000000</td>\n",
              "      <td>-1.000000</td>\n",
              "      <td>-0.200988</td>\n",
              "      <td>0.303646</td>\n",
              "    </tr>\n",
              "    <tr>\n",
              "      <th>isFemale</th>\n",
              "      <td>0.543351</td>\n",
              "      <td>-0.131900</td>\n",
              "      <td>-0.093254</td>\n",
              "      <td>0.114631</td>\n",
              "      <td>0.245489</td>\n",
              "      <td>0.182333</td>\n",
              "      <td>0.502713</td>\n",
              "      <td>-1.000000</td>\n",
              "      <td>1.000000</td>\n",
              "      <td>0.200988</td>\n",
              "      <td>-0.303646</td>\n",
              "    </tr>\n",
              "    <tr>\n",
              "      <th>Family</th>\n",
              "      <td>0.016639</td>\n",
              "      <td>0.065997</td>\n",
              "      <td>-0.301914</td>\n",
              "      <td>0.890712</td>\n",
              "      <td>0.783111</td>\n",
              "      <td>0.217138</td>\n",
              "      <td>0.342039</td>\n",
              "      <td>-0.200988</td>\n",
              "      <td>0.200988</td>\n",
              "      <td>1.000000</td>\n",
              "      <td>-0.690922</td>\n",
              "    </tr>\n",
              "    <tr>\n",
              "      <th>isSingle</th>\n",
              "      <td>-0.203367</td>\n",
              "      <td>0.135207</td>\n",
              "      <td>0.198270</td>\n",
              "      <td>-0.584471</td>\n",
              "      <td>-0.583398</td>\n",
              "      <td>-0.271832</td>\n",
              "      <td>-0.405813</td>\n",
              "      <td>0.303646</td>\n",
              "      <td>-0.303646</td>\n",
              "      <td>-0.690922</td>\n",
              "      <td>1.000000</td>\n",
              "    </tr>\n",
              "  </tbody>\n",
              "</table>\n",
              "</div>"
            ],
            "text/plain": [
              "          Survived    Pclass       Age     SibSp     Parch      Fare  \\\n",
              "Survived  1.000000 -0.338481 -0.077221 -0.035322  0.081629  0.257307   \n",
              "Pclass   -0.338481  1.000000 -0.369226  0.083081  0.018443 -0.549500   \n",
              "Age      -0.077221 -0.369226  1.000000 -0.308247 -0.189119  0.096067   \n",
              "SibSp    -0.035322  0.083081 -0.308247  1.000000  0.414838  0.159651   \n",
              "Parch     0.081629  0.018443 -0.189119  0.414838  1.000000  0.216225   \n",
              "Fare      0.257307 -0.549500  0.096067  0.159651  0.216225  1.000000   \n",
              "Title     0.407753 -0.173929 -0.104766  0.269623  0.315784  0.136310   \n",
              "isMale   -0.543351  0.131900  0.093254 -0.114631 -0.245489 -0.182333   \n",
              "isFemale  0.543351 -0.131900 -0.093254  0.114631  0.245489  0.182333   \n",
              "Family    0.016639  0.065997 -0.301914  0.890712  0.783111  0.217138   \n",
              "isSingle -0.203367  0.135207  0.198270 -0.584471 -0.583398 -0.271832   \n",
              "\n",
              "             Title    isMale  isFemale    Family  isSingle  \n",
              "Survived  0.407753 -0.543351  0.543351  0.016639 -0.203367  \n",
              "Pclass   -0.173929  0.131900 -0.131900  0.065997  0.135207  \n",
              "Age      -0.104766  0.093254 -0.093254 -0.301914  0.198270  \n",
              "SibSp     0.269623 -0.114631  0.114631  0.890712 -0.584471  \n",
              "Parch     0.315784 -0.245489  0.245489  0.783111 -0.583398  \n",
              "Fare      0.136310 -0.182333  0.182333  0.217138 -0.271832  \n",
              "Title     1.000000 -0.502713  0.502713  0.342039 -0.405813  \n",
              "isMale   -0.502713  1.000000 -1.000000 -0.200988  0.303646  \n",
              "isFemale  0.502713 -1.000000  1.000000  0.200988 -0.303646  \n",
              "Family    0.342039 -0.200988  0.200988  1.000000 -0.690922  \n",
              "isSingle -0.405813  0.303646 -0.303646 -0.690922  1.000000  "
            ]
          },
          "execution_count": 21,
          "metadata": {},
          "output_type": "execute_result"
        }
      ],
      "source": [
        "train_data.corr()"
      ]
    },
    {
      "cell_type": "markdown",
      "metadata": {
        "id": "HwUose_zAodd"
      },
      "source": []
    },
    {
      "cell_type": "code",
      "execution_count": 22,
      "metadata": {
        "colab": {
          "base_uri": "https://localhost:8080/"
        },
        "id": "Lxwg2jeiaUEN",
        "outputId": "6af73ade-66dc-4710-e850-a2ce8b15e101"
      },
      "outputs": [
        {
          "name": "stdout",
          "output_type": "stream",
          "text": [
            "0.30353817504655495\n",
            "0.5056497175141242\n"
          ]
        }
      ],
      "source": [
        "singlesur =  train_data.loc[train_data.isSingle==1]['Survived']\n",
        "nsinglesur = train_data.loc[train_data.isSingle==0]['Survived']\n",
        "ssrate = sum(singlesur)/len(singlesur)\n",
        "nsrate = sum(nsinglesur)/len(nsinglesur)\n",
        "print(ssrate)\n",
        "print(nsrate)"
      ]
    },
    {
      "cell_type": "markdown",
      "metadata": {
        "id": "9j7mxP0cBAXN"
      },
      "source": [
        "The correlation with survived is not higher using Family, but is higher using isSingle(-0.2).  \n",
        "People had no other family member had lower survival rate (0.303), while others had higher (0.505).  "
      ]
    },
    {
      "cell_type": "code",
      "execution_count": 23,
      "metadata": {
        "id": "YAWC-U2I0fcq"
      },
      "outputs": [],
      "source": [
        "test_data['isMale'] = 1\n",
        "test_data['isMale'].loc[train_data['Sex']=='female'] = 0\n",
        "test_data['isFemale'] = 1\n",
        "test_data['isFemale'].loc[train_data['Sex']=='male'] = 0\n",
        "test_data['Family']=0\n",
        "test_data['Family']=train_data.Parch + train_data.SibSp\n",
        "test_data['isSingle']=0\n",
        "test_data['isSingle'].loc[train_data.Family==0] = 1"
      ]
    },
    {
      "cell_type": "code",
      "execution_count": 24,
      "metadata": {
        "id": "92pY-r_W0fcr"
      },
      "outputs": [],
      "source": [
        "freq_port = train_data.Embarked.dropna().mode()[0]\n",
        "combine = [train_data, test_data]\n",
        "for dataset in combine:\n",
        "    dataset['Embarked'] = dataset['Embarked'].fillna(freq_port)"
      ]
    },
    {
      "cell_type": "code",
      "execution_count": 25,
      "metadata": {
        "id": "RmHGJ5JE0fcs",
        "outputId": "6348d36f-cbdb-4081-ef20-3f23432974cf"
      },
      "outputs": [
        {
          "data": {
            "text/plain": [
              "<AxesSubplot:>"
            ]
          },
          "execution_count": 25,
          "metadata": {},
          "output_type": "execute_result"
        },
        {
          "data": {
            "image/png": "[encoded data removed]",
            "text/plain": [
              "<Figure size 432x288 with 2 Axes>"
            ]
          },
          "metadata": {
            "needs_background": "light"
          },
          "output_type": "display_data"
        }
      ],
      "source": [
        "sns.heatmap(train_data[[\"Age\",\"isMale\",\"SibSp\",\"Parch\",\"Pclass\"]].corr(),cmap=\"BrBG\",annot=True)"
      ]
    },
    {
      "cell_type": "markdown",
      "metadata": {
        "id": "fSsNziNc0fct"
      },
      "source": [
        "Age is negatively correlated with Pclass and SibSp."
      ]
    },
    {
      "cell_type": "code",
      "execution_count": 26,
      "metadata": {
        "id": "h0w_mJXT0fcu"
      },
      "outputs": [],
      "source": [
        "guess_ages = np.zeros((9,3))\n",
        "for dataset in combine:\n",
        "    for i in range(0, 9):\n",
        "        for j in range(0, 3):\n",
        "            guess_df = dataset[(dataset['SibSp'] == i) & (dataset['Pclass'] == j+1)]['Age'].dropna()\n",
        "            age_guess = guess_df.median()\n",
        "            if np.isnan(age_guess):\n",
        "                continue\n",
        "            guess_ages[i,j] = int( age_guess/0.5 + 0.5 ) * 0.5           \n",
        "    for i in range(0, 9):\n",
        "        for j in range(0, 3):\n",
        "            dataset.loc[ (dataset.Age.isnull()) & (dataset.SibSp == i) & (dataset.Pclass == j+1),'Age'] = guess_ages[i,j]\n",
        "    dataset['Age'] = dataset['Age'].astype(int)\n",
        "for dataset in combine:    \n",
        "    dataset.loc[ dataset['Age'] <= 16, 'Age'] = 0\n",
        "    dataset.loc[(dataset['Age'] > 16) & (dataset['Age'] <= 32), 'Age'] = 1\n",
        "    dataset.loc[(dataset['Age'] > 32) & (dataset['Age'] <= 48), 'Age'] = 2\n",
        "    dataset.loc[(dataset['Age'] > 48) & (dataset['Age'] <= 64), 'Age'] = 3\n",
        "    dataset.loc[ dataset['Age'] > 64, 'Age'] = 4\n",
        "combine = [train_data, test_data]"
      ]
    },
    {
      "cell_type": "code",
      "execution_count": 27,
      "metadata": {
        "id": "l1QbhRoY0fcv"
      },
      "outputs": [],
      "source": [
        "train_data['Embarked'] = train_data['Embarked'].map( {'S': 0, 'C': 1, 'Q': 2} ).astype(int)\n",
        "test_data['Embarked'] = test_data['Embarked'].map( {'S': 0, 'C': 1, 'Q': 2} ).astype(int)\n",
        "train_data = train_data.drop(['Sex'], axis=1)\n",
        "test_data = test_data.drop(['Sex'], axis=1)\n",
        "combine = [train_data, test_data]"
      ]
    },
    {
      "cell_type": "code",
      "execution_count": 28,
      "metadata": {
        "id": "0l2iLkBl0fcw",
        "outputId": "8c038bf1-e859-4255-f2ad-f0308e399577"
      },
      "outputs": [
        {
          "data": {
            "text/html": [
              "<div>\n",
              "<style scoped>\n",
              "    .dataframe tbody tr th:only-of-type {\n",
              "        vertical-align: middle;\n",
              "    }\n",
              "\n",
              "    .dataframe tbody tr th {\n",
              "        vertical-align: top;\n",
              "    }\n",
              "\n",
              "    .dataframe thead th {\n",
              "        text-align: right;\n",
              "    }\n",
              "</style>\n",
              "<table border=\"1\" class=\"dataframe\">\n",
              "  <thead>\n",
              "    <tr style=\"text-align: right;\">\n",
              "      <th></th>\n",
              "      <th>Survived</th>\n",
              "      <th>Pclass</th>\n",
              "      <th>Age</th>\n",
              "      <th>SibSp</th>\n",
              "      <th>Parch</th>\n",
              "      <th>Fare</th>\n",
              "      <th>Embarked</th>\n",
              "      <th>Title</th>\n",
              "      <th>isMale</th>\n",
              "      <th>isFemale</th>\n",
              "      <th>Family</th>\n",
              "      <th>isSingle</th>\n",
              "    </tr>\n",
              "  </thead>\n",
              "  <tbody>\n",
              "    <tr>\n",
              "      <th>0</th>\n",
              "      <td>0</td>\n",
              "      <td>3</td>\n",
              "      <td>1</td>\n",
              "      <td>1</td>\n",
              "      <td>0</td>\n",
              "      <td>0</td>\n",
              "      <td>0</td>\n",
              "      <td>1</td>\n",
              "      <td>1</td>\n",
              "      <td>0</td>\n",
              "      <td>1</td>\n",
              "      <td>0</td>\n",
              "    </tr>\n",
              "    <tr>\n",
              "      <th>1</th>\n",
              "      <td>1</td>\n",
              "      <td>1</td>\n",
              "      <td>2</td>\n",
              "      <td>1</td>\n",
              "      <td>0</td>\n",
              "      <td>3</td>\n",
              "      <td>1</td>\n",
              "      <td>3</td>\n",
              "      <td>0</td>\n",
              "      <td>1</td>\n",
              "      <td>1</td>\n",
              "      <td>0</td>\n",
              "    </tr>\n",
              "    <tr>\n",
              "      <th>2</th>\n",
              "      <td>1</td>\n",
              "      <td>3</td>\n",
              "      <td>1</td>\n",
              "      <td>0</td>\n",
              "      <td>0</td>\n",
              "      <td>1</td>\n",
              "      <td>0</td>\n",
              "      <td>2</td>\n",
              "      <td>0</td>\n",
              "      <td>1</td>\n",
              "      <td>0</td>\n",
              "      <td>1</td>\n",
              "    </tr>\n",
              "    <tr>\n",
              "      <th>3</th>\n",
              "      <td>1</td>\n",
              "      <td>1</td>\n",
              "      <td>2</td>\n",
              "      <td>1</td>\n",
              "      <td>0</td>\n",
              "      <td>3</td>\n",
              "      <td>0</td>\n",
              "      <td>3</td>\n",
              "      <td>0</td>\n",
              "      <td>1</td>\n",
              "      <td>1</td>\n",
              "      <td>0</td>\n",
              "    </tr>\n",
              "    <tr>\n",
              "      <th>4</th>\n",
              "      <td>0</td>\n",
              "      <td>3</td>\n",
              "      <td>2</td>\n",
              "      <td>0</td>\n",
              "      <td>0</td>\n",
              "      <td>1</td>\n",
              "      <td>0</td>\n",
              "      <td>1</td>\n",
              "      <td>1</td>\n",
              "      <td>0</td>\n",
              "      <td>0</td>\n",
              "      <td>1</td>\n",
              "    </tr>\n",
              "  </tbody>\n",
              "</table>\n",
              "</div>"
            ],
            "text/plain": [
              "   Survived  Pclass  Age  SibSp  Parch  Fare  Embarked  Title  isMale  \\\n",
              "0         0       3    1      1      0     0         0      1       1   \n",
              "1         1       1    2      1      0     3         1      3       0   \n",
              "2         1       3    1      0      0     1         0      2       0   \n",
              "3         1       1    2      1      0     3         0      3       0   \n",
              "4         0       3    2      0      0     1         0      1       1   \n",
              "\n",
              "   isFemale  Family  isSingle  \n",
              "0         0       1         0  \n",
              "1         1       1         0  \n",
              "2         1       0         1  \n",
              "3         1       1         0  \n",
              "4         0       0         1  "
            ]
          },
          "execution_count": 28,
          "metadata": {},
          "output_type": "execute_result"
        }
      ],
      "source": [
        "for dataset in combine:\n",
        "    dataset['Fare'].fillna(dataset['Fare'].dropna().median(), inplace=True)\n",
        "    dataset.loc[ dataset['Fare'] <= 7.91, 'Fare'] = 0\n",
        "    dataset.loc[(dataset['Fare'] > 7.91) & (dataset['Fare'] <= 14.454), 'Fare'] = 1\n",
        "    dataset.loc[(dataset['Fare'] > 14.454) & (dataset['Fare'] <= 31), 'Fare']   = 2\n",
        "    dataset.loc[ dataset['Fare'] > 31, 'Fare'] = 3\n",
        "    dataset['Fare'] = dataset['Fare'].astype(int)  \n",
        "combine = [train_data, test_data]\n",
        "train_data.head()"
      ]
    },
    {
      "cell_type": "markdown",
      "metadata": {
        "id": "OLDVvU9x00qz"
      },
      "source": [
        "# Gradient Boosting Classfication"
      ]
    },
    {
      "cell_type": "code",
      "execution_count": 29,
      "metadata": {
        "id": "U7gGXnWOFoax"
      },
      "outputs": [],
      "source": [
        "from sklearn.ensemble import GradientBoostingClassifier\n",
        "from sklearn.model_selection import GridSearchCV, cross_val_score, StratifiedKFold, learning_curve, train_test_split\n",
        "from sklearn.metrics import confusion_matrix, classification_report\n",
        "GBC = GradientBoostingClassifier(random_state = 2)\n",
        "kfold = StratifiedKFold(n_splits=10, shuffle=True)"
      ]
    },
    {
      "cell_type": "markdown",
      "metadata": {
        "id": "nNdRiSgy07QN"
      },
      "source": [
        "splitting training set & validating set"
      ]
    },
    {
      "cell_type": "code",
      "execution_count": 30,
      "metadata": {
        "id": "yD6TngNpmbKo"
      },
      "outputs": [],
      "source": [
        "X = train_data.drop([\"Survived\"], axis=1)\n",
        "y = train_data[\"Survived\"]\n",
        "X_train, X_val, y_train, y_val = train_test_split(X, y, shuffle=True, test_size=0.15)"
      ]
    },
    {
      "cell_type": "markdown",
      "metadata": {
        "id": "s0UgThPv1EC6"
      },
      "source": [
        "simple test for cross-validation score"
      ]
    },
    {
      "cell_type": "code",
      "execution_count": 31,
      "metadata": {
        "id": "wtzC8hzY0Jkk"
      },
      "outputs": [],
      "source": [
        "GbcCv = cross_val_score(GBC, X = X_train, y = y_train, scoring = \"accuracy\", cv = kfold)"
      ]
    },
    {
      "cell_type": "code",
      "execution_count": 32,
      "metadata": {
        "colab": {
          "base_uri": "https://localhost:8080/"
        },
        "id": "BxAco8oA1ljD",
        "outputId": "421492ac-82ee-482e-92ac-f1ce77aa2915"
      },
      "outputs": [
        {
          "data": {
            "text/plain": [
              "0.8097894736842104"
            ]
          },
          "execution_count": 32,
          "metadata": {},
          "output_type": "execute_result"
        }
      ],
      "source": [
        "GbcCv.mean()"
      ]
    },
    {
      "cell_type": "markdown",
      "metadata": {
        "id": "ZecroUil1OJJ"
      },
      "source": [
        "test with all default parameters"
      ]
    },
    {
      "cell_type": "code",
      "execution_count": 33,
      "metadata": {
        "id": "Rr3xVvh77SO8"
      },
      "outputs": [],
      "source": [
        "gbcclf = GradientBoostingClassifier()\n",
        "gbcclf.fit(X_train, y_train)\n",
        "y_predict =  gbcclf.predict(X_val)"
      ]
    },
    {
      "cell_type": "code",
      "execution_count": 34,
      "metadata": {
        "colab": {
          "base_uri": "https://localhost:8080/"
        },
        "id": "0NquALK67oR1",
        "outputId": "891d4380-f8f9-40f9-ae89-57b81490925c"
      },
      "outputs": [
        {
          "name": "stdout",
          "output_type": "stream",
          "text": [
            "accuracy: 0.8432835820895522\n",
            "precision: 0.8791208791208791\n",
            "recall: 0.8791208791208791\n"
          ]
        }
      ],
      "source": [
        "cm = confusion_matrix(y_val, y_predict)\n",
        "print(\"accuracy:\",(cm[0][0]+cm[1][1])/(cm[0][0]+cm[0][1]+cm[1][0]+cm[1][1]))\n",
        "print(\"precision:\",(cm[0][0])/(cm[0][0]+cm[0][1]))\n",
        "print(\"recall:\",cm[0][0]/(cm[0][0]+cm[0][1]))"
      ]
    },
    {
      "cell_type": "markdown",
      "metadata": {
        "id": "nVxWuv6k1Vpf"
      },
      "source": [
        "use grid search to tune parameters"
      ]
    },
    {
      "cell_type": "code",
      "execution_count": 35,
      "metadata": {
        "colab": {
          "base_uri": "https://localhost:8080/"
        },
        "id": "m2_AkBlbQP2-",
        "outputId": "e1fcdd63-309f-45a6-8c6f-07df711fa9e0"
      },
      "outputs": [
        {
          "name": "stdout",
          "output_type": "stream",
          "text": [
            "Fitting 10 folds for each of 72 candidates, totalling 720 fits\n"
          ]
        },
        {
          "name": "stderr",
          "output_type": "stream",
          "text": [
            "[Parallel(n_jobs=-1)]: Using backend LokyBackend with 8 concurrent workers.\n",
            "[Parallel(n_jobs=-1)]: Done  34 tasks      | elapsed:   12.1s\n",
            "[Parallel(n_jobs=-1)]: Done 184 tasks      | elapsed:   27.3s\n",
            "[Parallel(n_jobs=-1)]: Done 434 tasks      | elapsed:  1.0min\n",
            "[Parallel(n_jobs=-1)]: Done 720 out of 720 | elapsed:  1.8min finished\n"
          ]
        },
        {
          "name": "stdout",
          "output_type": "stream",
          "text": [
            "0.8316729088639201\n",
            "{'learning_rate': 0.005, 'max_depth': 3, 'max_features': 1.0, 'n_estimators': 300}\n"
          ]
        }
      ],
      "source": [
        "gbcparam = {\"learning_rate\":[0.005, 0.01], \"n_estimators\":[100,300,500], \"max_depth\":[2,3,4], \"max_features\":[0.1, 0.3, 0.5, 1.0]}\n",
        "gridsearchclf = GridSearchCV(GradientBoostingClassifier(), param_grid = gbcparam, cv=kfold, scoring=\"accuracy\", n_jobs= -1, verbose = 1)\n",
        "gridsearchclf.fit(X, y)\n",
        "print(gridsearchclf.best_score_)\n",
        "print(gridsearchclf.best_params_)"
      ]
    },
    {
      "cell_type": "code",
      "execution_count": 36,
      "metadata": {
        "colab": {
          "base_uri": "https://localhost:8080/"
        },
        "id": "TLRwihEalVgw",
        "outputId": "9c4e320b-7f86-4b05-b1fb-2028279252f8"
      },
      "outputs": [
        {
          "name": "stdout",
          "output_type": "stream",
          "text": [
            "Fitting 10 folds for each of 486 candidates, totalling 4860 fits\n"
          ]
        },
        {
          "name": "stderr",
          "output_type": "stream",
          "text": [
            "[Parallel(n_jobs=-1)]: Using backend LokyBackend with 8 concurrent workers.\n",
            "[Parallel(n_jobs=-1)]: Done  52 tasks      | elapsed:    4.3s\n",
            "[Parallel(n_jobs=-1)]: Done 216 tasks      | elapsed:   46.3s\n",
            "[Parallel(n_jobs=-1)]: Done 466 tasks      | elapsed:  1.9min\n",
            "[Parallel(n_jobs=-1)]: Done 816 tasks      | elapsed:  3.6min\n",
            "[Parallel(n_jobs=-1)]: Done 1266 tasks      | elapsed:  4.9min\n",
            "[Parallel(n_jobs=-1)]: Done 1816 tasks      | elapsed:  6.6min\n",
            "[Parallel(n_jobs=-1)]: Done 2466 tasks      | elapsed:  8.9min\n",
            "[Parallel(n_jobs=-1)]: Done 3216 tasks      | elapsed: 11.4min\n",
            "[Parallel(n_jobs=-1)]: Done 4066 tasks      | elapsed: 24.3min\n",
            "[Parallel(n_jobs=-1)]: Done 4860 out of 4860 | elapsed: 36.0min finished\n"
          ]
        },
        {
          "name": "stdout",
          "output_type": "stream",
          "text": [
            "0.8316354556803995\n",
            "{'criterion': 'mae', 'learning_rate': 0.5, 'loss': 'exponential', 'max_depth': 2, 'max_features': 0.1, 'n_estimators': 100}\n"
          ]
        }
      ],
      "source": [
        "gbcparam = {\"loss\":[\"deviance\",\"exponential\"], \"criterion\":[\"friedman_mse\",\"mse\",\"mae\"],\"learning_rate\":[0.005, 0.01, 0.5], \"n_estimators\":[100,300,500], \"max_depth\":[2,4,6], \"max_features\":[0.1, 0.3, 0.5]}\n",
        "gridsearchclf = GridSearchCV(GradientBoostingClassifier(), param_grid = gbcparam, cv=kfold, scoring=\"accuracy\", n_jobs= -1, verbose = 1)\n",
        "gridsearchclf.fit(X, y)\n",
        "print(gridsearchclf.best_score_)\n",
        "print(gridsearchclf.best_params_)"
      ]
    },
    {
      "cell_type": "code",
      "execution_count": 37,
      "metadata": {
        "colab": {
          "base_uri": "https://localhost:8080/"
        },
        "id": "HbD_NH43laYs",
        "outputId": "d1eb00aa-8f52-4c94-f7fa-97f30d4b04bd"
      },
      "outputs": [
        {
          "name": "stdout",
          "output_type": "stream",
          "text": [
            "Fitting 10 folds for each of 45 candidates, totalling 450 fits\n"
          ]
        },
        {
          "name": "stderr",
          "output_type": "stream",
          "text": [
            "[Parallel(n_jobs=-1)]: Using backend LokyBackend with 8 concurrent workers.\n",
            "[Parallel(n_jobs=-1)]: Done  34 tasks      | elapsed:    5.4s\n",
            "[Parallel(n_jobs=-1)]: Done 184 tasks      | elapsed:   38.0s\n",
            "[Parallel(n_jobs=-1)]: Done 434 tasks      | elapsed:  2.7min\n",
            "[Parallel(n_jobs=-1)]: Done 450 out of 450 | elapsed:  2.9min finished\n"
          ]
        },
        {
          "name": "stdout",
          "output_type": "stream",
          "text": [
            "0.8316354556803995\n",
            "{'criterion': 'friedman_mse', 'learning_rate': 0.01, 'loss': 'deviance', 'max_depth': 3, 'max_features': 0.1, 'n_estimators': 800}\n"
          ]
        }
      ],
      "source": [
        "gbcparam = {\"loss\":[\"deviance\"], \"criterion\":[\"friedman_mse\"],\"learning_rate\":[0.01], \"n_estimators\":[300,500,800], \"max_depth\":[3,4,5], \"max_features\":[0.1, 0.3, 0.5, 0.7, 1.0]}\n",
        "gridsearchclf = GridSearchCV(GradientBoostingClassifier(), param_grid = gbcparam, cv=kfold, scoring=\"accuracy\", n_jobs= -1, verbose = 1)\n",
        "gridsearchclf.fit(X, y)\n",
        "print(gridsearchclf.best_score_)\n",
        "print(gridsearchclf.best_params_)"
      ]
    },
    {
      "cell_type": "markdown",
      "metadata": {
        "id": "5csc6DCV1bT8"
      },
      "source": [
        "final model for gradient boosting"
      ]
    },
    {
      "cell_type": "code",
      "execution_count": 38,
      "metadata": {
        "id": "sfMXXHenlEZR"
      },
      "outputs": [],
      "source": [
        "gbcclf = GradientBoostingClassifier(learning_rate=0.01,criterion=\"friedman_mse\", loss=\"deviance\", max_depth=3, max_features=0.5, n_estimators=300)\n",
        "gbcclf.fit(X_train, y_train)\n",
        "y_predict =  gbcclf.predict(X_val)"
      ]
    },
    {
      "cell_type": "code",
      "execution_count": 39,
      "metadata": {
        "colab": {
          "base_uri": "https://localhost:8080/"
        },
        "id": "B0EkIUJilEZR",
        "outputId": "79e379c6-1a6e-4844-c026-8722a89deebc"
      },
      "outputs": [
        {
          "name": "stdout",
          "output_type": "stream",
          "text": [
            "accuracy: 0.8582089552238806\n",
            "precision: 0.9010989010989011\n",
            "recall: 0.9010989010989011\n"
          ]
        }
      ],
      "source": [
        "cm = confusion_matrix(y_val, y_predict)\n",
        "print(\"accuracy:\",(cm[0][0]+cm[1][1])/(cm[0][0]+cm[0][1]+cm[1][0]+cm[1][1]))\n",
        "print(\"precision:\",(cm[0][0])/(cm[0][0]+cm[0][1]))\n",
        "print(\"recall:\",cm[0][0]/(cm[0][0]+cm[0][1]))"
      ]
    },
    {
      "cell_type": "code",
      "execution_count": 40,
      "metadata": {},
      "outputs": [
        {
          "name": "stdout",
          "output_type": "stream",
          "text": [
            "Fitting 10 folds for each of 112 candidates, totalling 1120 fits\n"
          ]
        },
        {
          "name": "stderr",
          "output_type": "stream",
          "text": [
            "[Parallel(n_jobs=4)]: Using backend LokyBackend with 4 concurrent workers.\n",
            "[Parallel(n_jobs=4)]: Done  56 tasks      | elapsed:    6.4s\n",
            "[Parallel(n_jobs=4)]: Done 1120 out of 1120 | elapsed:   13.8s finished\n"
          ]
        },
        {
          "data": {
            "text/plain": [
              "0.8115106117353307"
            ]
          },
          "execution_count": 40,
          "metadata": {},
          "output_type": "execute_result"
        }
      ],
      "source": [
        "from sklearn.ensemble import AdaBoostClassifier\r\n",
        "from sklearn.tree import DecisionTreeClassifier\r\n",
        "from sklearn.model_selection import GridSearchCV, cross_val_score, StratifiedKFold, learning_curve\r\n",
        "train_data[\"Survived\"] = train_data[\"Survived\"].astype(int)\r\n",
        "Y_train = train_data[\"Survived\"]\r\n",
        "\r\n",
        "X_train = train_data.drop(labels = [\"Survived\"],axis = 1)\r\n",
        "\r\n",
        "DTC = DecisionTreeClassifier()\r\n",
        "\r\n",
        "adaDTC = AdaBoostClassifier(DTC, n_estimators=50,  random_state=5 )\r\n",
        "\r\n",
        "ada_param_grid = {\"base_estimator__criterion\" : [\"gini\", \"entropy\"],\r\n",
        "              \"base_estimator__splitter\" :   [\"best\", \"random\"],\r\n",
        "              \"algorithm\" : [\"SAMME\",\"SAMME.R\"],\r\n",
        "              \"n_estimators\" :[1,2],\r\n",
        "              \"learning_rate\":  [0.0001, 0.001, 0.01, 0.1, 0.2, 0.3, 1.5]}\r\n",
        "\r\n",
        "gsadaDTC = GridSearchCV(adaDTC,param_grid = ada_param_grid, cv=kfold, scoring=\"accuracy\", n_jobs= 4, verbose = 1)\r\n",
        "\r\n",
        "gsadaDTC.fit(X_train,Y_train)\r\n",
        "\r\n",
        "ada_best = gsadaDTC.best_estimator_\r\n",
        "gsadaDTC.best_score_"
      ]
    },
    {
      "cell_type": "code",
      "execution_count": 41,
      "metadata": {},
      "outputs": [
        {
          "data": {
            "image/png": "[encoded data removed]",
            "text/plain": [
              "<Figure size 432x288 with 1 Axes>"
            ]
          },
          "metadata": {
            "needs_background": "light"
          },
          "output_type": "display_data"
        }
      ],
      "source": [
        "def plot_learning_curve(estimator, title, X, y, ylim=None, cv=None,\r\n",
        "                        n_jobs=-1, train_sizes=np.linspace(.1, 1.0, 5)):\r\n",
        "    \"\"\"Generate a simple plot of the test and training learning curve\"\"\"\r\n",
        "    plt.figure()\r\n",
        "    plt.title(title)\r\n",
        "    if ylim is not None:\r\n",
        "        plt.ylim(*ylim)\r\n",
        "    plt.xlabel(\"Training examples\")\r\n",
        "    plt.ylabel(\"Score\")\r\n",
        "    train_sizes, train_scores, test_scores = learning_curve(\r\n",
        "        estimator, X, y, cv=cv, n_jobs=n_jobs, train_sizes=train_sizes)\r\n",
        "    train_scores_mean = np.mean(train_scores, axis=1)\r\n",
        "    train_scores_std = np.std(train_scores, axis=1)\r\n",
        "    test_scores_mean = np.mean(test_scores, axis=1)\r\n",
        "    test_scores_std = np.std(test_scores, axis=1)\r\n",
        "    plt.grid()\r\n",
        "\r\n",
        "    plt.fill_between(train_sizes, train_scores_mean - train_scores_std,\r\n",
        "                     train_scores_mean + train_scores_std, alpha=0.1,\r\n",
        "                     color=\"r\")\r\n",
        "    plt.fill_between(train_sizes, test_scores_mean - test_scores_std,\r\n",
        "                     test_scores_mean + test_scores_std, alpha=0.1, color=\"g\")\r\n",
        "    plt.plot(train_sizes, train_scores_mean, 'o-', color=\"r\",\r\n",
        "             label=\"Training score\")\r\n",
        "    plt.plot(train_sizes, test_scores_mean, 'o-', color=\"g\",\r\n",
        "             label=\"Cross-validation score\")\r\n",
        "\r\n",
        "    plt.legend(loc=\"best\")\r\n",
        "    return plt\r\n",
        "g = plot_learning_curve(gsadaDTC.best_estimator_,\"AdaBoost learning curves\",X_train,Y_train,cv=kfold)"
      ]
    }
  ],
  "metadata": {
    "colab": {
      "name": "main.ipynb",
      "provenance": []
    },
    "interpreter": {
      "hash": "6c202f4e302d86457b8dbf3f6cd377648c658e26322dda529640f73face61c2e"
    },
    "kernelspec": {
      "display_name": "Python 3.8.5 64-bit ('base': conda)",
      "name": "python3"
    },
    "language_info": {
      "codemirror_mode": {
        "name": "ipython",
        "version": 3
      },
      "file_extension": ".py",
      "mimetype": "text/x-python",
      "name": "python",
      "nbconvert_exporter": "python",
      "pygments_lexer": "ipython3",
      "version": "3.8.5"
    },
    "orig_nbformat": 4
  },
  "nbformat": 4,
  "nbformat_minor": 0
}